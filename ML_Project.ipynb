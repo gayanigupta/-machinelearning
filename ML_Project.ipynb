{
 "cells": [
  {
   "cell_type": "code",
   "execution_count": 1,
   "metadata": {
    "id": "FkJIjs4lpxZU"
   },
   "outputs": [],
   "source": [
    "import pandas as pd\n",
    "from io import StringIO\n",
    "import numpy as np\n",
    "from sklearn.impute import SimpleImputer\n",
    "from sklearn.preprocessing import LabelEncoder\n",
    "from sklearn.preprocessing import OneHotEncoder\n",
    "from sklearn.compose import ColumnTransformer\n",
    "from sklearn.model_selection import train_test_split\n",
    "from sklearn.preprocessing import MinMaxScaler\n",
    "import matplotlib.pyplot as plt\n",
    "from sklearn.metrics import confusion_matrix\n",
    "import warnings\n",
    "warnings.filterwarnings(\"ignore\")"
   ]
  },
  {
   "cell_type": "code",
   "execution_count": 2,
   "metadata": {
    "colab": {
     "base_uri": "https://localhost:8080/",
     "height": 424
    },
    "id": "W2wVkI2WqJAL",
    "outputId": "6f8f72fd-30af-476f-874b-33124a71faab"
   },
   "outputs": [
    {
     "data": {
      "text/html": [
       "<div>\n",
       "<style scoped>\n",
       "    .dataframe tbody tr th:only-of-type {\n",
       "        vertical-align: middle;\n",
       "    }\n",
       "\n",
       "    .dataframe tbody tr th {\n",
       "        vertical-align: top;\n",
       "    }\n",
       "\n",
       "    .dataframe thead th {\n",
       "        text-align: right;\n",
       "    }\n",
       "</style>\n",
       "<table border=\"1\" class=\"dataframe\">\n",
       "  <thead>\n",
       "    <tr style=\"text-align: right;\">\n",
       "      <th></th>\n",
       "      <th>RI</th>\n",
       "      <th>Na</th>\n",
       "      <th>Mg</th>\n",
       "      <th>Al</th>\n",
       "      <th>Si</th>\n",
       "      <th>K</th>\n",
       "      <th>Ca</th>\n",
       "      <th>Ba</th>\n",
       "      <th>Fe</th>\n",
       "      <th>Type</th>\n",
       "    </tr>\n",
       "  </thead>\n",
       "  <tbody>\n",
       "    <tr>\n",
       "      <th>1</th>\n",
       "      <td>1.52101</td>\n",
       "      <td>13.64</td>\n",
       "      <td>4.49</td>\n",
       "      <td>1.10</td>\n",
       "      <td>71.78</td>\n",
       "      <td>0.06</td>\n",
       "      <td>8.75</td>\n",
       "      <td>0.00</td>\n",
       "      <td>0.0</td>\n",
       "      <td>1</td>\n",
       "    </tr>\n",
       "    <tr>\n",
       "      <th>2</th>\n",
       "      <td>1.51761</td>\n",
       "      <td>13.89</td>\n",
       "      <td>3.60</td>\n",
       "      <td>1.36</td>\n",
       "      <td>72.73</td>\n",
       "      <td>0.48</td>\n",
       "      <td>7.83</td>\n",
       "      <td>0.00</td>\n",
       "      <td>0.0</td>\n",
       "      <td>1</td>\n",
       "    </tr>\n",
       "    <tr>\n",
       "      <th>3</th>\n",
       "      <td>1.51618</td>\n",
       "      <td>13.53</td>\n",
       "      <td>3.55</td>\n",
       "      <td>1.54</td>\n",
       "      <td>72.99</td>\n",
       "      <td>0.39</td>\n",
       "      <td>7.78</td>\n",
       "      <td>0.00</td>\n",
       "      <td>0.0</td>\n",
       "      <td>1</td>\n",
       "    </tr>\n",
       "    <tr>\n",
       "      <th>4</th>\n",
       "      <td>1.51766</td>\n",
       "      <td>13.21</td>\n",
       "      <td>3.69</td>\n",
       "      <td>1.29</td>\n",
       "      <td>72.61</td>\n",
       "      <td>0.57</td>\n",
       "      <td>8.22</td>\n",
       "      <td>0.00</td>\n",
       "      <td>0.0</td>\n",
       "      <td>1</td>\n",
       "    </tr>\n",
       "    <tr>\n",
       "      <th>5</th>\n",
       "      <td>1.51742</td>\n",
       "      <td>13.27</td>\n",
       "      <td>3.62</td>\n",
       "      <td>1.24</td>\n",
       "      <td>73.08</td>\n",
       "      <td>0.55</td>\n",
       "      <td>8.07</td>\n",
       "      <td>0.00</td>\n",
       "      <td>0.0</td>\n",
       "      <td>1</td>\n",
       "    </tr>\n",
       "    <tr>\n",
       "      <th>...</th>\n",
       "      <td>...</td>\n",
       "      <td>...</td>\n",
       "      <td>...</td>\n",
       "      <td>...</td>\n",
       "      <td>...</td>\n",
       "      <td>...</td>\n",
       "      <td>...</td>\n",
       "      <td>...</td>\n",
       "      <td>...</td>\n",
       "      <td>...</td>\n",
       "    </tr>\n",
       "    <tr>\n",
       "      <th>210</th>\n",
       "      <td>1.51623</td>\n",
       "      <td>14.14</td>\n",
       "      <td>0.00</td>\n",
       "      <td>2.88</td>\n",
       "      <td>72.61</td>\n",
       "      <td>0.08</td>\n",
       "      <td>9.18</td>\n",
       "      <td>1.06</td>\n",
       "      <td>0.0</td>\n",
       "      <td>7</td>\n",
       "    </tr>\n",
       "    <tr>\n",
       "      <th>211</th>\n",
       "      <td>1.51685</td>\n",
       "      <td>14.92</td>\n",
       "      <td>0.00</td>\n",
       "      <td>1.99</td>\n",
       "      <td>73.06</td>\n",
       "      <td>0.00</td>\n",
       "      <td>8.40</td>\n",
       "      <td>1.59</td>\n",
       "      <td>0.0</td>\n",
       "      <td>7</td>\n",
       "    </tr>\n",
       "    <tr>\n",
       "      <th>212</th>\n",
       "      <td>1.52065</td>\n",
       "      <td>14.36</td>\n",
       "      <td>0.00</td>\n",
       "      <td>2.02</td>\n",
       "      <td>73.42</td>\n",
       "      <td>0.00</td>\n",
       "      <td>8.44</td>\n",
       "      <td>1.64</td>\n",
       "      <td>0.0</td>\n",
       "      <td>7</td>\n",
       "    </tr>\n",
       "    <tr>\n",
       "      <th>213</th>\n",
       "      <td>1.51651</td>\n",
       "      <td>14.38</td>\n",
       "      <td>0.00</td>\n",
       "      <td>1.94</td>\n",
       "      <td>73.61</td>\n",
       "      <td>0.00</td>\n",
       "      <td>8.48</td>\n",
       "      <td>1.57</td>\n",
       "      <td>0.0</td>\n",
       "      <td>7</td>\n",
       "    </tr>\n",
       "    <tr>\n",
       "      <th>214</th>\n",
       "      <td>1.51711</td>\n",
       "      <td>14.23</td>\n",
       "      <td>0.00</td>\n",
       "      <td>2.08</td>\n",
       "      <td>73.36</td>\n",
       "      <td>0.00</td>\n",
       "      <td>8.62</td>\n",
       "      <td>1.67</td>\n",
       "      <td>0.0</td>\n",
       "      <td>7</td>\n",
       "    </tr>\n",
       "  </tbody>\n",
       "</table>\n",
       "<p>214 rows × 10 columns</p>\n",
       "</div>"
      ],
      "text/plain": [
       "          RI     Na    Mg    Al     Si     K    Ca    Ba   Fe  Type\n",
       "1    1.52101  13.64  4.49  1.10  71.78  0.06  8.75  0.00  0.0     1\n",
       "2    1.51761  13.89  3.60  1.36  72.73  0.48  7.83  0.00  0.0     1\n",
       "3    1.51618  13.53  3.55  1.54  72.99  0.39  7.78  0.00  0.0     1\n",
       "4    1.51766  13.21  3.69  1.29  72.61  0.57  8.22  0.00  0.0     1\n",
       "5    1.51742  13.27  3.62  1.24  73.08  0.55  8.07  0.00  0.0     1\n",
       "..       ...    ...   ...   ...    ...   ...   ...   ...  ...   ...\n",
       "210  1.51623  14.14  0.00  2.88  72.61  0.08  9.18  1.06  0.0     7\n",
       "211  1.51685  14.92  0.00  1.99  73.06  0.00  8.40  1.59  0.0     7\n",
       "212  1.52065  14.36  0.00  2.02  73.42  0.00  8.44  1.64  0.0     7\n",
       "213  1.51651  14.38  0.00  1.94  73.61  0.00  8.48  1.57  0.0     7\n",
       "214  1.51711  14.23  0.00  2.08  73.36  0.00  8.62  1.67  0.0     7\n",
       "\n",
       "[214 rows x 10 columns]"
      ]
     },
     "execution_count": 2,
     "metadata": {},
     "output_type": "execute_result"
    }
   ],
   "source": [
    "columns = ['RI','Na', 'Mg', 'Al', 'Si', 'K', 'Ca', 'Ba','Fe','Type']\n",
    "df = pd.read_csv('https://archive.ics.uci.edu/ml/machine-learning-databases/glass/glass.data',\n",
    "                 names=columns, header=None)\n",
    "df"
   ]
  },
  {
   "cell_type": "code",
   "execution_count": 3,
   "metadata": {
    "id": "GkDX3wu7xBon"
   },
   "outputs": [],
   "source": [
    "# X, y = df.iloc[::1], df.iloc[::1]\n",
    "# X_train, X_test, y_train, y_test =train_test_split(X, y,test_size=0.3)"
   ]
  },
  {
   "cell_type": "code",
   "execution_count": 4,
   "metadata": {
    "id": "YS2Qk9mq0w6R"
   },
   "outputs": [],
   "source": [
    "# mms = MinMaxScaler()\n",
    "# X_train_norm = mms.fit_transform(X_train)\n",
    "# X_test_norm = mms.transform(X_test)"
   ]
  },
  {
   "cell_type": "code",
   "execution_count": 5,
   "metadata": {
    "colab": {
     "base_uri": "https://localhost:8080/",
     "height": 441
    },
    "id": "JXbArTHj1T1N",
    "outputId": "7970a2a0-99c2-4710-9f89-95c83048052d"
   },
   "outputs": [
    {
     "data": {
      "image/png": "[encoded data removed]",
      "text/plain": [
       "<Figure size 720x432 with 9 Axes>"
      ]
     },
     "metadata": {
      "needs_background": "light"
     },
     "output_type": "display_data"
    }
   ],
   "source": [
    "def scatterplot(x, y, x_label=\"\", y_label=\"\", title=\"\", color = \"r\", yscale_log=False):\n",
    "\n",
    "# Create the plot object with a sub plot layout\n",
    "    _, ax = plt.subplots(3,3,figsize=(10,6))\n",
    "    plt.tight_layout()\n",
    "\n",
    "\n",
    "    # Plot the data, set the size (s), color and transparency (alpha)\n",
    "    # of the points\n",
    "    for i in range(3):\n",
    "      for j in range(3):\n",
    "        ax[i][j].scatter(x[columns[i*3+j]], y[columns[i*3+j]], color = color)\n",
    "        if yscale_log == True:\n",
    "          ax[i][j].set_yscale('log')\n",
    "\n",
    "        # Label the axes and provide a title\n",
    "        s='Plot of Type versus '+columns[i*3+j]\n",
    "        ax[i][j].set_title(s)\n",
    "        ax[i][j].set_xlabel(columns[i*3+j])\n",
    "        ax[i][j].set_ylabel('Type')\n",
    "        plt.tight_layout()\n",
    "        \n",
    "plt.show(scatterplot(df.iloc[::1], df.iloc[::1]))"
   ]
  },
  {
   "cell_type": "markdown",
   "metadata": {
    "id": "RU-L6BbcvPHI"
   },
   "source": [
    "Based on the analysis and visualizations performed, what would be the top 3 features in terms of their importance to the classification process?\n",
    "Based on the analysis the top 3 features are the Na, Mg and Al"
   ]
  },
  {
   "cell_type": "code",
   "execution_count": 6,
   "metadata": {
    "colab": {
     "base_uri": "https://localhost:8080/"
    },
    "id": "cAPP8uszrZwf",
    "outputId": "aa8f9878-7821-456f-dcfe-ee5bb5bbf5bd"
   },
   "outputs": [
    {
     "data": {
      "text/plain": [
       "RI      0\n",
       "Na      0\n",
       "Mg      0\n",
       "Al      0\n",
       "Si      0\n",
       "K       0\n",
       "Ca      0\n",
       "Ba      0\n",
       "Fe      0\n",
       "Type    0\n",
       "dtype: int64"
      ]
     },
     "execution_count": 6,
     "metadata": {},
     "output_type": "execute_result"
    }
   ],
   "source": [
    "df.isnull().sum()"
   ]
  },
  {
   "cell_type": "code",
   "execution_count": 7,
   "metadata": {
    "colab": {
     "base_uri": "https://localhost:8080/"
    },
    "id": "7aSG6glAsC9j",
    "outputId": "ce2e0a98-b8e2-413a-ec83-b86912e00dee"
   },
   "outputs": [
    {
     "data": {
      "text/plain": [
       "array([[ 1.52101, 13.64   ,  4.49   , ...,  0.     ,  0.     ,  1.     ],\n",
       "       [ 1.51761, 13.89   ,  3.6    , ...,  0.     ,  0.     ,  1.     ],\n",
       "       [ 1.51618, 13.53   ,  3.55   , ...,  0.     ,  0.     ,  1.     ],\n",
       "       ...,\n",
       "       [ 1.52065, 14.36   ,  0.     , ...,  1.64   ,  0.     ,  7.     ],\n",
       "       [ 1.51651, 14.38   ,  0.     , ...,  1.57   ,  0.     ,  7.     ],\n",
       "       [ 1.51711, 14.23   ,  0.     , ...,  1.67   ,  0.     ,  7.     ]])"
      ]
     },
     "execution_count": 7,
     "metadata": {},
     "output_type": "execute_result"
    }
   ],
   "source": [
    "imr = SimpleImputer(missing_values=np.nan, strategy='mean')\n",
    "imr = imr.fit(df.values)\n",
    "imputed_data = imr.transform(df.values)\n",
    "imputed_data"
   ]
  },
  {
   "cell_type": "code",
   "execution_count": 8,
   "metadata": {
    "colab": {
     "base_uri": "https://localhost:8080/"
    },
    "id": "aHWfp4Zvvkow",
    "outputId": "95f8ccf4-4cdc-4b1e-d555-e3cb0d2b741e"
   },
   "outputs": [
    {
     "name": "stdout",
     "output_type": "stream",
     "text": [
      "  (0, 146)\t1.0\n",
      "  (0, 178)\t13.64\n",
      "  (0, 179)\t4.49\n",
      "  (0, 180)\t1.1\n",
      "  (0, 181)\t71.78\n",
      "  (0, 182)\t0.06\n",
      "  (0, 183)\t8.75\n",
      "  (0, 186)\t1.0\n",
      "  (1, 81)\t1.0\n",
      "  (1, 178)\t13.89\n",
      "  (1, 179)\t3.6\n",
      "  (1, 180)\t1.36\n",
      "  (1, 181)\t72.73\n",
      "  (1, 182)\t0.48\n",
      "  (1, 183)\t7.83\n",
      "  (1, 186)\t1.0\n",
      "  (2, 29)\t1.0\n",
      "  (2, 178)\t13.53\n",
      "  (2, 179)\t3.55\n",
      "  (2, 180)\t1.54\n",
      "  (2, 181)\t72.99\n",
      "  (2, 182)\t0.39\n",
      "  (2, 183)\t7.78\n",
      "  (2, 186)\t1.0\n",
      "  (3, 84)\t1.0\n",
      "  :\t:\n",
      "  (210, 181)\t73.06\n",
      "  (210, 183)\t8.4\n",
      "  (210, 184)\t1.59\n",
      "  (210, 186)\t7.0\n",
      "  (211, 142)\t1.0\n",
      "  (211, 178)\t14.36\n",
      "  (211, 180)\t2.02\n",
      "  (211, 181)\t73.42\n",
      "  (211, 183)\t8.44\n",
      "  (211, 184)\t1.64\n",
      "  (211, 186)\t7.0\n",
      "  (212, 39)\t1.0\n",
      "  (212, 178)\t14.38\n",
      "  (212, 180)\t1.94\n",
      "  (212, 181)\t73.61\n",
      "  (212, 183)\t8.48\n",
      "  (212, 184)\t1.57\n",
      "  (212, 186)\t7.0\n",
      "  (213, 62)\t1.0\n",
      "  (213, 178)\t14.23\n",
      "  (213, 180)\t2.08\n",
      "  (213, 181)\t73.36\n",
      "  (213, 183)\t8.62\n",
      "  (213, 184)\t1.67\n",
      "  (213, 186)\t7.0\n"
     ]
    }
   ],
   "source": [
    "X = df[['RI', 'Na', 'Mg', 'Al','Si', 'K', 'Ca', 'Ba','Fe', 'Type']].values\n",
    "ohe = ColumnTransformer([('anyname',OneHotEncoder(), [0])],remainder='passthrough')\n",
    "print(ohe.fit_transform(X))"
   ]
  },
  {
   "cell_type": "markdown",
   "metadata": {
    "id": "fF0kkN7tOBHf"
   },
   "source": [
    "### Task 1: "
   ]
  },
  {
   "cell_type": "code",
   "execution_count": 9,
   "metadata": {},
   "outputs": [
    {
     "data": {
      "image/png": "[encoded data removed]",
      "text/plain": [
       "<Figure size 720x432 with 1 Axes>"
      ]
     },
     "metadata": {
      "needs_background": "light"
     },
     "output_type": "display_data"
    },
    {
     "data": {
      "image/png": "[encoded data removed]",
      "text/plain": [
       "<Figure size 720x432 with 1 Axes>"
      ]
     },
     "metadata": {
      "needs_background": "light"
     },
     "output_type": "display_data"
    },
    {
     "data": {
      "image/png": "[encoded data removed]",
      "text/plain": [
       "<Figure size 720x432 with 1 Axes>"
      ]
     },
     "metadata": {
      "needs_background": "light"
     },
     "output_type": "display_data"
    },
    {
     "data": {
      "image/png": "[encoded data removed]",
      "text/plain": [
       "<Figure size 720x432 with 1 Axes>"
      ]
     },
     "metadata": {
      "needs_background": "light"
     },
     "output_type": "display_data"
    },
    {
     "data": {
      "image/png": "[encoded data removed]",
      "text/plain": [
       "<Figure size 720x432 with 1 Axes>"
      ]
     },
     "metadata": {
      "needs_background": "light"
     },
     "output_type": "display_data"
    },
    {
     "data": {
      "image/png": "[encoded data removed]",
      "text/plain": [
       "<Figure size 720x432 with 1 Axes>"
      ]
     },
     "metadata": {
      "needs_background": "light"
     },
     "output_type": "display_data"
    },
    {
     "data": {
      "image/png": "[encoded data removed]",
      "text/plain": [
       "<Figure size 720x432 with 1 Axes>"
      ]
     },
     "metadata": {
      "needs_background": "light"
     },
     "output_type": "display_data"
    },
    {
     "data": {
      "image/png": "[encoded data removed]",
      "text/plain": [
       "<Figure size 720x432 with 1 Axes>"
      ]
     },
     "metadata": {
      "needs_background": "light"
     },
     "output_type": "display_data"
    }
   ],
   "source": [
    "# Define the number of bins\n",
    "num_bins = 5\n",
    "\n",
    "# Create a list of colors for each class\n",
    "colors = ['blue', 'orange', 'green', 'red', 'purple', 'brown', 'pink']\n",
    "\n",
    "# Iterate over each feature (excluding 'Id' and 'Type')\n",
    "for feature in df.columns[1:-1]:\n",
    "    # Create a stacked histogram for each feature\n",
    "    plt.figure(figsize=(10, 6))\n",
    "    for class_val, color in zip(df['Type'].unique(), colors):\n",
    "        # Filter the data for the current class\n",
    "        class_data = df[df['Type'] == class_val][feature]\n",
    "        \n",
    "        # Plot the histogram for the current class\n",
    "        plt.hist(class_data, bins=num_bins, alpha=0.6, color=color, label=f'Class {class_val}')\n",
    "    \n",
    "    # Add labels and title\n",
    "    plt.xlabel(feature)\n",
    "    plt.ylabel('Count')\n",
    "    plt.title(f'Stacked Histogram for {feature}')\n",
    "    plt.legend()\n",
    "    \n",
    "    # Display the histogram\n",
    "    plt.show()"
   ]
  },
  {
   "cell_type": "markdown",
   "metadata": {
    "id": "u7s6ien5R7NF"
   },
   "source": [
    "### Task 2"
   ]
  },
  {
   "cell_type": "code",
   "execution_count": 10,
   "metadata": {},
   "outputs": [
    {
     "name": "stdout",
     "output_type": "stream",
     "text": [
      "Type                1   2   3  5  6   7\n",
      "Mg_bins                                \n",
      "(-0.00449, 0.898]   0   9   0  8  4  23\n",
      "(0.898, 1.796]      0   2   0  2  1   1\n",
      "(1.796, 2.694]      0   2   0  3  4   2\n",
      "(2.694, 3.592]     42  40  12  0  0   3\n",
      "(3.592, 4.49]      28  23   5  0  0   0\n"
     ]
    }
   ],
   "source": [
    "num_bins = 5\n",
    "\n",
    "# Create a new column to represent the bin ranges for the Mg feature\n",
    "df['Mg_bins'] = pd.cut(df['Mg'], num_bins)\n",
    "\n",
    "# Create the 2-way table using crosstab\n",
    "table_2way = pd.crosstab(df['Mg_bins'], df['Type'])\n",
    "print(table_2way)"
   ]
  },
  {
   "cell_type": "code",
   "execution_count": 11,
   "metadata": {},
   "outputs": [
    {
     "name": "stdout",
     "output_type": "stream",
     "text": [
      "Type                1   2   3  5  6   7\n",
      "Mg_bins                                \n",
      "(-0.00449, 1.497]   0  11   0  8  4  23\n",
      "(1.497, 2.993]      4   8   0  5  5   3\n",
      "(2.993, 4.49]      66  57  17  0  0   3\n"
     ]
    }
   ],
   "source": [
    "num_bins = 3\n",
    "\n",
    "# Create a new column to represent the bin ranges for the Mg feature\n",
    "df['Mg_bins'] = pd.cut(df['Mg'], num_bins)\n",
    "\n",
    "# Create the 2-way table using crosstab\n",
    "table_2way = pd.crosstab(df['Mg_bins'], df['Type'])\n",
    "print(table_2way)"
   ]
  },
  {
   "cell_type": "code",
   "execution_count": 12,
   "metadata": {
    "colab": {
     "base_uri": "https://localhost:8080/",
     "height": 533
    },
    "id": "w6tb7DJXRVtY",
    "outputId": "1e1a8196-dead-4df7-e083-14e9a4903545"
   },
   "outputs": [
    {
     "data": {
      "text/plain": [
       "<AxesSubplot:ylabel='Frequency'>"
      ]
     },
     "execution_count": 12,
     "metadata": {},
     "output_type": "execute_result"
    },
    {
     "data": {
      "image/png": "[encoded data removed]",
      "text/plain": [
       "<Figure size 432x288 with 1 Axes>"
      ]
     },
     "metadata": {
      "needs_background": "light"
     },
     "output_type": "display_data"
    }
   ],
   "source": [
    "df2Mg = df.pivot(columns='Type', values='Mg')\n",
    "df2Mg.plot.hist(stacked=True, bins=3)"
   ]
  },
  {
   "cell_type": "markdown",
   "metadata": {
    "id": "Cv19OO0BSPqC"
   },
   "source": [
    "Based on the above chart it's evident that the range for 3 bins lies in : 3.55 to 4.49"
   ]
  },
  {
   "cell_type": "markdown",
   "metadata": {},
   "source": [
    "### Task 3"
   ]
  },
  {
   "cell_type": "code",
   "execution_count": 13,
   "metadata": {},
   "outputs": [
    {
     "data": {
      "text/html": [
       "<div>\n",
       "<style scoped>\n",
       "    .dataframe tbody tr th:only-of-type {\n",
       "        vertical-align: middle;\n",
       "    }\n",
       "\n",
       "    .dataframe tbody tr th {\n",
       "        vertical-align: top;\n",
       "    }\n",
       "\n",
       "    .dataframe thead th {\n",
       "        text-align: right;\n",
       "    }\n",
       "</style>\n",
       "<table border=\"1\" class=\"dataframe\">\n",
       "  <thead>\n",
       "    <tr style=\"text-align: right;\">\n",
       "      <th></th>\n",
       "      <th>Mg1</th>\n",
       "      <th>Mg2</th>\n",
       "      <th>Mg3</th>\n",
       "      <th>Al</th>\n",
       "      <th>K</th>\n",
       "      <th>Type</th>\n",
       "    </tr>\n",
       "  </thead>\n",
       "  <tbody>\n",
       "    <tr>\n",
       "      <th>0</th>\n",
       "      <td>4.49</td>\n",
       "      <td>0.0</td>\n",
       "      <td>0.0</td>\n",
       "      <td>1.10</td>\n",
       "      <td>0.06</td>\n",
       "      <td>1</td>\n",
       "    </tr>\n",
       "    <tr>\n",
       "      <th>1</th>\n",
       "      <td>3.60</td>\n",
       "      <td>0.0</td>\n",
       "      <td>0.0</td>\n",
       "      <td>1.36</td>\n",
       "      <td>0.48</td>\n",
       "      <td>1</td>\n",
       "    </tr>\n",
       "    <tr>\n",
       "      <th>2</th>\n",
       "      <td>3.55</td>\n",
       "      <td>0.0</td>\n",
       "      <td>0.0</td>\n",
       "      <td>1.54</td>\n",
       "      <td>0.39</td>\n",
       "      <td>1</td>\n",
       "    </tr>\n",
       "    <tr>\n",
       "      <th>3</th>\n",
       "      <td>3.69</td>\n",
       "      <td>0.0</td>\n",
       "      <td>0.0</td>\n",
       "      <td>1.29</td>\n",
       "      <td>0.57</td>\n",
       "      <td>1</td>\n",
       "    </tr>\n",
       "    <tr>\n",
       "      <th>4</th>\n",
       "      <td>3.62</td>\n",
       "      <td>0.0</td>\n",
       "      <td>0.0</td>\n",
       "      <td>1.24</td>\n",
       "      <td>0.55</td>\n",
       "      <td>1</td>\n",
       "    </tr>\n",
       "    <tr>\n",
       "      <th>...</th>\n",
       "      <td>...</td>\n",
       "      <td>...</td>\n",
       "      <td>...</td>\n",
       "      <td>...</td>\n",
       "      <td>...</td>\n",
       "      <td>...</td>\n",
       "    </tr>\n",
       "    <tr>\n",
       "      <th>209</th>\n",
       "      <td>0.00</td>\n",
       "      <td>0.0</td>\n",
       "      <td>0.0</td>\n",
       "      <td>2.88</td>\n",
       "      <td>0.08</td>\n",
       "      <td>7</td>\n",
       "    </tr>\n",
       "    <tr>\n",
       "      <th>210</th>\n",
       "      <td>0.00</td>\n",
       "      <td>0.0</td>\n",
       "      <td>0.0</td>\n",
       "      <td>1.99</td>\n",
       "      <td>0.00</td>\n",
       "      <td>7</td>\n",
       "    </tr>\n",
       "    <tr>\n",
       "      <th>211</th>\n",
       "      <td>0.00</td>\n",
       "      <td>0.0</td>\n",
       "      <td>0.0</td>\n",
       "      <td>2.02</td>\n",
       "      <td>0.00</td>\n",
       "      <td>7</td>\n",
       "    </tr>\n",
       "    <tr>\n",
       "      <th>212</th>\n",
       "      <td>0.00</td>\n",
       "      <td>0.0</td>\n",
       "      <td>0.0</td>\n",
       "      <td>1.94</td>\n",
       "      <td>0.00</td>\n",
       "      <td>7</td>\n",
       "    </tr>\n",
       "    <tr>\n",
       "      <th>213</th>\n",
       "      <td>0.00</td>\n",
       "      <td>0.0</td>\n",
       "      <td>0.0</td>\n",
       "      <td>2.08</td>\n",
       "      <td>0.00</td>\n",
       "      <td>7</td>\n",
       "    </tr>\n",
       "  </tbody>\n",
       "</table>\n",
       "<p>214 rows × 6 columns</p>\n",
       "</div>"
      ],
      "text/plain": [
       "      Mg1  Mg2  Mg3    Al     K  Type\n",
       "0    4.49  0.0  0.0  1.10  0.06     1\n",
       "1    3.60  0.0  0.0  1.36  0.48     1\n",
       "2    3.55  0.0  0.0  1.54  0.39     1\n",
       "3    3.69  0.0  0.0  1.29  0.57     1\n",
       "4    3.62  0.0  0.0  1.24  0.55     1\n",
       "..    ...  ...  ...   ...   ...   ...\n",
       "209  0.00  0.0  0.0  2.88  0.08     7\n",
       "210  0.00  0.0  0.0  1.99  0.00     7\n",
       "211  0.00  0.0  0.0  2.02  0.00     7\n",
       "212  0.00  0.0  0.0  1.94  0.00     7\n",
       "213  0.00  0.0  0.0  2.08  0.00     7\n",
       "\n",
       "[214 rows x 6 columns]"
      ]
     },
     "execution_count": 13,
     "metadata": {},
     "output_type": "execute_result"
    }
   ],
   "source": [
    "bin_ranges = [0, 1.5]\n",
    "Mg_ind = columns.index('Mg')\n",
    "v2_1 = df.loc[(df[\"Mg\"] >= bin_ranges[0]) & (df[\"Mg\"] <= bin_ranges[1])]\n",
    "\n",
    "# define lists\n",
    "Mg1 = []\n",
    "Mg2 = []\n",
    "Mg3 = []\n",
    "Al = []\n",
    "K = []\n",
    "Type = []\n",
    "\n",
    "# loop over dataframe\n",
    "for i in range(len(df)):\n",
    "    row = df.iloc[i]\n",
    "    Mg = row['Mg']\n",
    "    # populate Mg1 with Mg value for each row\n",
    "    # if row doesn't exist in v2_1, populate Mg1 with original Mg value\n",
    "    if (Mg >= bin_ranges[0]) & (Mg <= bin_ranges[1]):\n",
    "        Mg1.append(Mg)\n",
    "    else:\n",
    "        Mg1.append(Mg)\n",
    "        \n",
    "    # populate Mg2 and Mg3 with median of bin range containing the class \n",
    "    # that has the biggest count after excluding the majority class in the partition v2_1\n",
    "    Al.append(row['Al'])\n",
    "    K.append(row['K'])\n",
    "    Type.append(row['Type'])\n",
    "    class_counts = v2_1['Type'].value_counts().sort_index() # count occurences of each type\n",
    "    max_without_majority = 0\n",
    "    median_val = 0\n",
    "    \n",
    "    for key, value in class_counts.items():\n",
    "        if (max_without_majority < value) and (key != 1): # first check for max without majority class\n",
    "            max_without_majority = value\n",
    "            median_val = v2_1[v2_1['Type'] == key]['Mg'].median() # get the median of the new majority\n",
    "\n",
    "# populate Mg2 and Mg3 with the calulated median val\n",
    "    Mg2.append(median_val)\n",
    "    Mg3.append(median_val)\n",
    "\n",
    "# create new df with derived features\n",
    "cols = ['Mg1', 'Mg2', 'Mg3', 'Al', 'K', 'Type']\n",
    "df1 = pd.DataFrame(list(zip(Mg1, Mg2, Mg3, Al, K, Type)), columns=cols)  \n",
    "df1"
   ]
  },
  {
   "cell_type": "code",
   "execution_count": 14,
   "metadata": {},
   "outputs": [
    {
     "data": {
      "text/html": [
       "<div>\n",
       "<style scoped>\n",
       "    .dataframe tbody tr th:only-of-type {\n",
       "        vertical-align: middle;\n",
       "    }\n",
       "\n",
       "    .dataframe tbody tr th {\n",
       "        vertical-align: top;\n",
       "    }\n",
       "\n",
       "    .dataframe thead th {\n",
       "        text-align: right;\n",
       "    }\n",
       "</style>\n",
       "<table border=\"1\" class=\"dataframe\">\n",
       "  <thead>\n",
       "    <tr style=\"text-align: right;\">\n",
       "      <th></th>\n",
       "      <th>Mg1</th>\n",
       "      <th>Mg2</th>\n",
       "      <th>Mg3</th>\n",
       "      <th>Al</th>\n",
       "      <th>K</th>\n",
       "      <th>Type</th>\n",
       "    </tr>\n",
       "  </thead>\n",
       "  <tbody>\n",
       "    <tr>\n",
       "      <th>0</th>\n",
       "      <td>4.49</td>\n",
       "      <td>2.805</td>\n",
       "      <td>2.805</td>\n",
       "      <td>1.10</td>\n",
       "      <td>0.06</td>\n",
       "      <td>1</td>\n",
       "    </tr>\n",
       "    <tr>\n",
       "      <th>1</th>\n",
       "      <td>3.60</td>\n",
       "      <td>2.805</td>\n",
       "      <td>2.805</td>\n",
       "      <td>1.36</td>\n",
       "      <td>0.48</td>\n",
       "      <td>1</td>\n",
       "    </tr>\n",
       "    <tr>\n",
       "      <th>2</th>\n",
       "      <td>3.55</td>\n",
       "      <td>2.805</td>\n",
       "      <td>2.805</td>\n",
       "      <td>1.54</td>\n",
       "      <td>0.39</td>\n",
       "      <td>1</td>\n",
       "    </tr>\n",
       "    <tr>\n",
       "      <th>3</th>\n",
       "      <td>3.69</td>\n",
       "      <td>2.805</td>\n",
       "      <td>2.805</td>\n",
       "      <td>1.29</td>\n",
       "      <td>0.57</td>\n",
       "      <td>1</td>\n",
       "    </tr>\n",
       "    <tr>\n",
       "      <th>4</th>\n",
       "      <td>3.62</td>\n",
       "      <td>2.805</td>\n",
       "      <td>2.805</td>\n",
       "      <td>1.24</td>\n",
       "      <td>0.55</td>\n",
       "      <td>1</td>\n",
       "    </tr>\n",
       "    <tr>\n",
       "      <th>...</th>\n",
       "      <td>...</td>\n",
       "      <td>...</td>\n",
       "      <td>...</td>\n",
       "      <td>...</td>\n",
       "      <td>...</td>\n",
       "      <td>...</td>\n",
       "    </tr>\n",
       "    <tr>\n",
       "      <th>209</th>\n",
       "      <td>0.00</td>\n",
       "      <td>2.805</td>\n",
       "      <td>2.805</td>\n",
       "      <td>2.88</td>\n",
       "      <td>0.08</td>\n",
       "      <td>7</td>\n",
       "    </tr>\n",
       "    <tr>\n",
       "      <th>210</th>\n",
       "      <td>0.00</td>\n",
       "      <td>2.805</td>\n",
       "      <td>2.805</td>\n",
       "      <td>1.99</td>\n",
       "      <td>0.00</td>\n",
       "      <td>7</td>\n",
       "    </tr>\n",
       "    <tr>\n",
       "      <th>211</th>\n",
       "      <td>0.00</td>\n",
       "      <td>2.805</td>\n",
       "      <td>2.805</td>\n",
       "      <td>2.02</td>\n",
       "      <td>0.00</td>\n",
       "      <td>7</td>\n",
       "    </tr>\n",
       "    <tr>\n",
       "      <th>212</th>\n",
       "      <td>0.00</td>\n",
       "      <td>2.805</td>\n",
       "      <td>2.805</td>\n",
       "      <td>1.94</td>\n",
       "      <td>0.00</td>\n",
       "      <td>7</td>\n",
       "    </tr>\n",
       "    <tr>\n",
       "      <th>213</th>\n",
       "      <td>0.00</td>\n",
       "      <td>2.805</td>\n",
       "      <td>2.805</td>\n",
       "      <td>2.08</td>\n",
       "      <td>0.00</td>\n",
       "      <td>7</td>\n",
       "    </tr>\n",
       "  </tbody>\n",
       "</table>\n",
       "<p>214 rows × 6 columns</p>\n",
       "</div>"
      ],
      "text/plain": [
       "      Mg1    Mg2    Mg3    Al     K  Type\n",
       "0    4.49  2.805  2.805  1.10  0.06     1\n",
       "1    3.60  2.805  2.805  1.36  0.48     1\n",
       "2    3.55  2.805  2.805  1.54  0.39     1\n",
       "3    3.69  2.805  2.805  1.29  0.57     1\n",
       "4    3.62  2.805  2.805  1.24  0.55     1\n",
       "..    ...    ...    ...   ...   ...   ...\n",
       "209  0.00  2.805  2.805  2.88  0.08     7\n",
       "210  0.00  2.805  2.805  1.99  0.00     7\n",
       "211  0.00  2.805  2.805  2.02  0.00     7\n",
       "212  0.00  2.805  2.805  1.94  0.00     7\n",
       "213  0.00  2.805  2.805  2.08  0.00     7\n",
       "\n",
       "[214 rows x 6 columns]"
      ]
     },
     "execution_count": 14,
     "metadata": {},
     "output_type": "execute_result"
    }
   ],
   "source": [
    "bin_ranges = [1.5, 3]\n",
    "Mg_ind = columns.index('Mg')\n",
    "v2_2 = df.loc[(df[\"Mg\"] >= bin_ranges[0]) & (df[\"Mg\"] <= bin_ranges[1])]\n",
    "\n",
    "# define lists\n",
    "Mg1 = []\n",
    "Mg2 = []\n",
    "Mg3 = []\n",
    "Al = []\n",
    "K = []\n",
    "Type = []\n",
    "\n",
    "# loop over dataframe\n",
    "for i in range(len(df)):\n",
    "    row = df.iloc[i]\n",
    "    Mg = row['Mg']\n",
    "    # populate Mg1 with Mg value for each row\n",
    "    # if row doesn't exist in v2_2, populate Mg1 with original Mg value\n",
    "    if (Mg >= bin_ranges[0]) & (Mg <= bin_ranges[1]):\n",
    "        Mg1.append(Mg)\n",
    "    else:\n",
    "        Mg1.append(Mg)\n",
    "        \n",
    "    # populate Mg2 and Mg3 with median of bin range containing the class \n",
    "    # that has the biggest count after excluding the majority class in the partition v2_2\n",
    "    Al.append(row['Al'])\n",
    "    K.append(row['K'])\n",
    "    Type.append(row['Type'])\n",
    "    class_counts = v2_2['Type'].value_counts().sort_index() # count occurences of each type\n",
    "    max_without_majority = 0\n",
    "    median_val = 0\n",
    "    \n",
    "    for key, value in class_counts.items():\n",
    "        if (max_without_majority < value) and (key != 1): # first check for max without majority class\n",
    "            max_without_majority = value\n",
    "            median_val = v2_2[v2_2['Type'] == key]['Mg'].median() # get the median of the new majority\n",
    "\n",
    "# populate Mg2 and Mg3 with the calulated median val\n",
    "    Mg2.append(median_val)\n",
    "    Mg3.append(median_val)\n",
    "\n",
    "# create new df with derived features\n",
    "cols = ['Mg1', 'Mg2', 'Mg3', 'Al', 'K', 'Type']\n",
    "df2 = pd.DataFrame(list(zip(Mg1, Mg2, Mg3, Al, K, Type)), columns=cols)  \n",
    "df2"
   ]
  },
  {
   "cell_type": "code",
   "execution_count": 15,
   "metadata": {},
   "outputs": [
    {
     "data": {
      "text/html": [
       "<div>\n",
       "<style scoped>\n",
       "    .dataframe tbody tr th:only-of-type {\n",
       "        vertical-align: middle;\n",
       "    }\n",
       "\n",
       "    .dataframe tbody tr th {\n",
       "        vertical-align: top;\n",
       "    }\n",
       "\n",
       "    .dataframe thead th {\n",
       "        text-align: right;\n",
       "    }\n",
       "</style>\n",
       "<table border=\"1\" class=\"dataframe\">\n",
       "  <thead>\n",
       "    <tr style=\"text-align: right;\">\n",
       "      <th></th>\n",
       "      <th>Mg1</th>\n",
       "      <th>Mg2</th>\n",
       "      <th>Mg3</th>\n",
       "      <th>Al</th>\n",
       "      <th>K</th>\n",
       "      <th>Type</th>\n",
       "    </tr>\n",
       "  </thead>\n",
       "  <tbody>\n",
       "    <tr>\n",
       "      <th>0</th>\n",
       "      <td>4.49</td>\n",
       "      <td>3.57</td>\n",
       "      <td>3.57</td>\n",
       "      <td>1.10</td>\n",
       "      <td>0.06</td>\n",
       "      <td>1</td>\n",
       "    </tr>\n",
       "    <tr>\n",
       "      <th>1</th>\n",
       "      <td>3.60</td>\n",
       "      <td>3.57</td>\n",
       "      <td>3.57</td>\n",
       "      <td>1.36</td>\n",
       "      <td>0.48</td>\n",
       "      <td>1</td>\n",
       "    </tr>\n",
       "    <tr>\n",
       "      <th>2</th>\n",
       "      <td>3.55</td>\n",
       "      <td>3.57</td>\n",
       "      <td>3.57</td>\n",
       "      <td>1.54</td>\n",
       "      <td>0.39</td>\n",
       "      <td>1</td>\n",
       "    </tr>\n",
       "    <tr>\n",
       "      <th>3</th>\n",
       "      <td>3.69</td>\n",
       "      <td>3.57</td>\n",
       "      <td>3.57</td>\n",
       "      <td>1.29</td>\n",
       "      <td>0.57</td>\n",
       "      <td>1</td>\n",
       "    </tr>\n",
       "    <tr>\n",
       "      <th>4</th>\n",
       "      <td>3.62</td>\n",
       "      <td>3.57</td>\n",
       "      <td>3.57</td>\n",
       "      <td>1.24</td>\n",
       "      <td>0.55</td>\n",
       "      <td>1</td>\n",
       "    </tr>\n",
       "    <tr>\n",
       "      <th>...</th>\n",
       "      <td>...</td>\n",
       "      <td>...</td>\n",
       "      <td>...</td>\n",
       "      <td>...</td>\n",
       "      <td>...</td>\n",
       "      <td>...</td>\n",
       "    </tr>\n",
       "    <tr>\n",
       "      <th>209</th>\n",
       "      <td>0.00</td>\n",
       "      <td>3.57</td>\n",
       "      <td>3.57</td>\n",
       "      <td>2.88</td>\n",
       "      <td>0.08</td>\n",
       "      <td>7</td>\n",
       "    </tr>\n",
       "    <tr>\n",
       "      <th>210</th>\n",
       "      <td>0.00</td>\n",
       "      <td>3.57</td>\n",
       "      <td>3.57</td>\n",
       "      <td>1.99</td>\n",
       "      <td>0.00</td>\n",
       "      <td>7</td>\n",
       "    </tr>\n",
       "    <tr>\n",
       "      <th>211</th>\n",
       "      <td>0.00</td>\n",
       "      <td>3.57</td>\n",
       "      <td>3.57</td>\n",
       "      <td>2.02</td>\n",
       "      <td>0.00</td>\n",
       "      <td>7</td>\n",
       "    </tr>\n",
       "    <tr>\n",
       "      <th>212</th>\n",
       "      <td>0.00</td>\n",
       "      <td>3.57</td>\n",
       "      <td>3.57</td>\n",
       "      <td>1.94</td>\n",
       "      <td>0.00</td>\n",
       "      <td>7</td>\n",
       "    </tr>\n",
       "    <tr>\n",
       "      <th>213</th>\n",
       "      <td>0.00</td>\n",
       "      <td>3.57</td>\n",
       "      <td>3.57</td>\n",
       "      <td>2.08</td>\n",
       "      <td>0.00</td>\n",
       "      <td>7</td>\n",
       "    </tr>\n",
       "  </tbody>\n",
       "</table>\n",
       "<p>214 rows × 6 columns</p>\n",
       "</div>"
      ],
      "text/plain": [
       "      Mg1   Mg2   Mg3    Al     K  Type\n",
       "0    4.49  3.57  3.57  1.10  0.06     1\n",
       "1    3.60  3.57  3.57  1.36  0.48     1\n",
       "2    3.55  3.57  3.57  1.54  0.39     1\n",
       "3    3.69  3.57  3.57  1.29  0.57     1\n",
       "4    3.62  3.57  3.57  1.24  0.55     1\n",
       "..    ...   ...   ...   ...   ...   ...\n",
       "209  0.00  3.57  3.57  2.88  0.08     7\n",
       "210  0.00  3.57  3.57  1.99  0.00     7\n",
       "211  0.00  3.57  3.57  2.02  0.00     7\n",
       "212  0.00  3.57  3.57  1.94  0.00     7\n",
       "213  0.00  3.57  3.57  2.08  0.00     7\n",
       "\n",
       "[214 rows x 6 columns]"
      ]
     },
     "execution_count": 15,
     "metadata": {},
     "output_type": "execute_result"
    }
   ],
   "source": [
    "bin_ranges = [3, 4.5]\n",
    "Mg_ind = columns.index('Mg')\n",
    "v2_3 = df.loc[(df[\"Mg\"] >= bin_ranges[0]) & (df[\"Mg\"] <= bin_ranges[1])]\n",
    "\n",
    "# define lists\n",
    "Mg1 = []\n",
    "Mg2 = []\n",
    "Mg3 = []\n",
    "Al = []\n",
    "K = []\n",
    "Type = []\n",
    "\n",
    "# loop over dataframe\n",
    "for i in range(len(df)):\n",
    "    row = df.iloc[i]\n",
    "    Mg = row['Mg']\n",
    "    # populate Mg1 with Mg value for each row\n",
    "    # if row doesn't exist in v2_3, populate Mg1 with original Mg value\n",
    "    if (Mg >= bin_ranges[0]) & (Mg <= bin_ranges[1]):\n",
    "        Mg1.append(Mg)\n",
    "    else:\n",
    "        Mg1.append(Mg)\n",
    "        \n",
    "    # populate Mg2 and Mg3 with median of bin range containing the class \n",
    "    # that has the biggest count after excluding the majority class in the partition v2_3\n",
    "    Al.append(row['Al'])\n",
    "    K.append(row['K'])\n",
    "    Type.append(row['Type'])\n",
    "    class_counts = v2_3['Type'].value_counts().sort_index() # count occurences of each type\n",
    "    max_without_majority = 0\n",
    "    median_val = 0\n",
    "    \n",
    "    for key, value in class_counts.items():\n",
    "        if (max_without_majority < value) and (key != 1): # first check for max without majority class\n",
    "            max_without_majority = value\n",
    "            median_val = v2_3[v2_3['Type'] == key]['Mg'].median() # get the median of the new majority\n",
    "\n",
    "# populate Mg2 and Mg3 with the calulated median val\n",
    "    Mg2.append(median_val)\n",
    "    Mg3.append(median_val)\n",
    "\n",
    "# create new df with derived features\n",
    "cols = ['Mg1', 'Mg2', 'Mg3', 'Al', 'K', 'Type']\n",
    "df3 = pd.DataFrame(list(zip(Mg1, Mg2, Mg3, Al, K, Type)), columns=cols)  \n",
    "df3"
   ]
  },
  {
   "cell_type": "markdown",
   "metadata": {
    "id": "IXnMHoFLYz64"
   },
   "source": [
    "### Task 4"
   ]
  },
  {
   "cell_type": "code",
   "execution_count": 16,
   "metadata": {
    "colab": {
     "base_uri": "https://localhost:8080/"
    },
    "id": "crUSDRXHWeLi",
    "outputId": "40aebbd2-f71e-45df-c437-31cf900227c2"
   },
   "outputs": [
    {
     "data": {
      "text/html": [
       "<div>\n",
       "<style scoped>\n",
       "    .dataframe tbody tr th:only-of-type {\n",
       "        vertical-align: middle;\n",
       "    }\n",
       "\n",
       "    .dataframe tbody tr th {\n",
       "        vertical-align: top;\n",
       "    }\n",
       "\n",
       "    .dataframe thead th {\n",
       "        text-align: right;\n",
       "    }\n",
       "</style>\n",
       "<table border=\"1\" class=\"dataframe\">\n",
       "  <thead>\n",
       "    <tr style=\"text-align: right;\">\n",
       "      <th></th>\n",
       "      <th>Mg1</th>\n",
       "      <th>Mg2</th>\n",
       "      <th>Mg3</th>\n",
       "      <th>Al</th>\n",
       "      <th>K</th>\n",
       "      <th>Type</th>\n",
       "    </tr>\n",
       "  </thead>\n",
       "  <tbody>\n",
       "    <tr>\n",
       "      <th>0</th>\n",
       "      <td>4.49</td>\n",
       "      <td>0.000</td>\n",
       "      <td>0.000</td>\n",
       "      <td>1.10</td>\n",
       "      <td>0.06</td>\n",
       "      <td>1</td>\n",
       "    </tr>\n",
       "    <tr>\n",
       "      <th>1</th>\n",
       "      <td>3.60</td>\n",
       "      <td>0.000</td>\n",
       "      <td>0.000</td>\n",
       "      <td>1.36</td>\n",
       "      <td>0.48</td>\n",
       "      <td>1</td>\n",
       "    </tr>\n",
       "    <tr>\n",
       "      <th>2</th>\n",
       "      <td>3.55</td>\n",
       "      <td>0.000</td>\n",
       "      <td>0.000</td>\n",
       "      <td>1.54</td>\n",
       "      <td>0.39</td>\n",
       "      <td>1</td>\n",
       "    </tr>\n",
       "    <tr>\n",
       "      <th>3</th>\n",
       "      <td>3.69</td>\n",
       "      <td>0.000</td>\n",
       "      <td>0.000</td>\n",
       "      <td>1.29</td>\n",
       "      <td>0.57</td>\n",
       "      <td>1</td>\n",
       "    </tr>\n",
       "    <tr>\n",
       "      <th>4</th>\n",
       "      <td>3.62</td>\n",
       "      <td>0.000</td>\n",
       "      <td>0.000</td>\n",
       "      <td>1.24</td>\n",
       "      <td>0.55</td>\n",
       "      <td>1</td>\n",
       "    </tr>\n",
       "    <tr>\n",
       "      <th>...</th>\n",
       "      <td>...</td>\n",
       "      <td>...</td>\n",
       "      <td>...</td>\n",
       "      <td>...</td>\n",
       "      <td>...</td>\n",
       "      <td>...</td>\n",
       "    </tr>\n",
       "    <tr>\n",
       "      <th>209</th>\n",
       "      <td>0.00</td>\n",
       "      <td>2.805</td>\n",
       "      <td>2.805</td>\n",
       "      <td>2.88</td>\n",
       "      <td>0.08</td>\n",
       "      <td>7</td>\n",
       "    </tr>\n",
       "    <tr>\n",
       "      <th>210</th>\n",
       "      <td>0.00</td>\n",
       "      <td>2.805</td>\n",
       "      <td>2.805</td>\n",
       "      <td>1.99</td>\n",
       "      <td>0.00</td>\n",
       "      <td>7</td>\n",
       "    </tr>\n",
       "    <tr>\n",
       "      <th>211</th>\n",
       "      <td>0.00</td>\n",
       "      <td>2.805</td>\n",
       "      <td>2.805</td>\n",
       "      <td>2.02</td>\n",
       "      <td>0.00</td>\n",
       "      <td>7</td>\n",
       "    </tr>\n",
       "    <tr>\n",
       "      <th>212</th>\n",
       "      <td>0.00</td>\n",
       "      <td>2.805</td>\n",
       "      <td>2.805</td>\n",
       "      <td>1.94</td>\n",
       "      <td>0.00</td>\n",
       "      <td>7</td>\n",
       "    </tr>\n",
       "    <tr>\n",
       "      <th>213</th>\n",
       "      <td>0.00</td>\n",
       "      <td>2.805</td>\n",
       "      <td>2.805</td>\n",
       "      <td>2.08</td>\n",
       "      <td>0.00</td>\n",
       "      <td>7</td>\n",
       "    </tr>\n",
       "  </tbody>\n",
       "</table>\n",
       "<p>642 rows × 6 columns</p>\n",
       "</div>"
      ],
      "text/plain": [
       "      Mg1    Mg2    Mg3    Al     K  Type\n",
       "0    4.49  0.000  0.000  1.10  0.06     1\n",
       "1    3.60  0.000  0.000  1.36  0.48     1\n",
       "2    3.55  0.000  0.000  1.54  0.39     1\n",
       "3    3.69  0.000  0.000  1.29  0.57     1\n",
       "4    3.62  0.000  0.000  1.24  0.55     1\n",
       "..    ...    ...    ...   ...   ...   ...\n",
       "209  0.00  2.805  2.805  2.88  0.08     7\n",
       "210  0.00  2.805  2.805  1.99  0.00     7\n",
       "211  0.00  2.805  2.805  2.02  0.00     7\n",
       "212  0.00  2.805  2.805  1.94  0.00     7\n",
       "213  0.00  2.805  2.805  2.08  0.00     7\n",
       "\n",
       "[642 rows x 6 columns]"
      ]
     },
     "execution_count": 16,
     "metadata": {},
     "output_type": "execute_result"
    }
   ],
   "source": [
    "pdListDf = [df1, df2, df2]  # List of your dataframes combined\n",
    "df_4 = pd.concat(pdListDf)\n",
    "\n",
    "df_4"
   ]
  },
  {
   "cell_type": "code",
   "execution_count": 17,
   "metadata": {},
   "outputs": [],
   "source": [
    "X = df.drop(['Type', 'Mg_bins'], axis=1)\n",
    "y = df['Type']"
   ]
  },
  {
   "cell_type": "code",
   "execution_count": 18,
   "metadata": {},
   "outputs": [],
   "source": [
    "X_mg, y_mg = df_4.drop('Type', axis=1), df_4['Type']\n",
    "X_train_mg, X_test_mg, y_train_mg, y_test_mg =train_test_split(X_mg, y_mg,stratify=y_mg,test_size=0.3)\n",
    "X_train, X_test, y_train, y_test =train_test_split(X, y,stratify=y,test_size=0.3)"
   ]
  },
  {
   "cell_type": "code",
   "execution_count": 19,
   "metadata": {},
   "outputs": [],
   "source": [
    "scaler = MinMaxScaler()\n",
    "X_train_mg = scaler.fit_transform(X_train_mg)\n",
    "X_test_mg = scaler.transform(X_test_mg)\n",
    "\n",
    "scaler = MinMaxScaler()\n",
    "X_train = scaler.fit_transform(X_train)\n",
    "X_test = scaler.transform(X_test)"
   ]
  },
  {
   "cell_type": "code",
   "execution_count": 20,
   "metadata": {},
   "outputs": [
    {
     "data": {
      "text/plain": [
       "LogisticRegression()"
      ]
     },
     "execution_count": 20,
     "metadata": {},
     "output_type": "execute_result"
    }
   ],
   "source": [
    "from sklearn.linear_model import LogisticRegression\n",
    "\n",
    "clf_mg = LogisticRegression()\n",
    "clf_mg.fit(X_train_mg, y_train_mg)\n",
    "\n",
    "clf = LogisticRegression()\n",
    "clf.fit(X_train, y_train)"
   ]
  },
  {
   "cell_type": "code",
   "execution_count": 21,
   "metadata": {},
   "outputs": [
    {
     "name": "stdout",
     "output_type": "stream",
     "text": [
      "Accuracy original data: 0.5230769230769231\n",
      "Accuracy processed Mg data: 0.6217616580310881\n"
     ]
    }
   ],
   "source": [
    "print(\"Accuracy original data:\", clf.score(X_test, y_test))\n",
    "print(\"Accuracy processed Mg data:\", clf_mg.score(X_test_mg, y_test_mg))"
   ]
  },
  {
   "cell_type": "code",
   "execution_count": 22,
   "metadata": {},
   "outputs": [],
   "source": [
    "cm = confusion_matrix(y_test, clf.predict(X_test))\n",
    "cm_mg = confusion_matrix(y_test_mg, clf_mg.predict(X_test_mg))"
   ]
  },
  {
   "cell_type": "code",
   "execution_count": 23,
   "metadata": {},
   "outputs": [
    {
     "data": {
      "image/png": "[encoded data removed]",
      "text/plain": [
       "<Figure size 432x288 with 2 Axes>"
      ]
     },
     "metadata": {
      "needs_background": "light"
     },
     "output_type": "display_data"
    }
   ],
   "source": [
    "import seaborn as sns\n",
    "import matplotlib.pyplot as plt     \n",
    "\n",
    "ax= plt.subplot()\n",
    "sns.heatmap(cm, annot=True, fmt='g', ax=ax)\n",
    "\n",
    "# labels, title and ticks\n",
    "ax.set_xlabel('Predicted labels');ax.set_ylabel('True labels'); \n",
    "ax.set_title('Confusion Matrix Original data');\n",
    "ax.xaxis.set_ticklabels(clf.classes_); ax.yaxis.set_ticklabels(clf.classes_);"
   ]
  },
  {
   "cell_type": "code",
   "execution_count": 24,
   "metadata": {},
   "outputs": [
    {
     "data": {
      "image/png": "[encoded data removed]",
      "text/plain": [
       "<Figure size 432x288 with 2 Axes>"
      ]
     },
     "metadata": {
      "needs_background": "light"
     },
     "output_type": "display_data"
    }
   ],
   "source": [
    "ax= plt.subplot()\n",
    "sns.heatmap(cm_mg, annot=True, fmt='g', ax=ax)\n",
    "\n",
    "# labels, title and ticks\n",
    "ax.set_xlabel('Predicted labels');ax.set_ylabel('True labels'); \n",
    "ax.set_title('Confusion Matrix processed Mg');\n",
    "ax.xaxis.set_ticklabels(clf_mg.classes_); ax.yaxis.set_ticklabels(clf_mg.classes_);"
   ]
  },
  {
   "cell_type": "markdown",
   "metadata": {},
   "source": [
    "### Task 5"
   ]
  },
  {
   "cell_type": "code",
   "execution_count": 25,
   "metadata": {},
   "outputs": [
    {
     "name": "stdout",
     "output_type": "stream",
     "text": [
      "Type            1   2   3   5  6   7\n",
      "Al_bins                             \n",
      "(0.287, 1.36]  60  30  12   0  3   3\n",
      "(1.36, 2.43]   10  46   5  10  6  19\n",
      "(2.43, 3.5]     0   0   0   3  0   7\n"
     ]
    }
   ],
   "source": [
    "num_bins = 3\n",
    "\n",
    "# Create a new column to represent the bin ranges for the Mg feature\n",
    "df['Al_bins'] = pd.cut(df['Al'], num_bins)\n",
    "\n",
    "# Create the 2-way table using crosstab\n",
    "table_2way = pd.crosstab(df['Al_bins'], df['Type'])\n",
    "print(table_2way)"
   ]
  },
  {
   "cell_type": "code",
   "execution_count": 26,
   "metadata": {},
   "outputs": [
    {
     "data": {
      "text/html": [
       "<div>\n",
       "<style scoped>\n",
       "    .dataframe tbody tr th:only-of-type {\n",
       "        vertical-align: middle;\n",
       "    }\n",
       "\n",
       "    .dataframe tbody tr th {\n",
       "        vertical-align: top;\n",
       "    }\n",
       "\n",
       "    .dataframe thead th {\n",
       "        text-align: right;\n",
       "    }\n",
       "</style>\n",
       "<table border=\"1\" class=\"dataframe\">\n",
       "  <thead>\n",
       "    <tr style=\"text-align: right;\">\n",
       "      <th></th>\n",
       "      <th>Al1</th>\n",
       "      <th>Al2</th>\n",
       "      <th>Al3</th>\n",
       "      <th>K</th>\n",
       "      <th>Type</th>\n",
       "    </tr>\n",
       "  </thead>\n",
       "  <tbody>\n",
       "    <tr>\n",
       "      <th>0</th>\n",
       "      <td>1.10</td>\n",
       "      <td>1.175</td>\n",
       "      <td>1.175</td>\n",
       "      <td>0.06</td>\n",
       "      <td>1</td>\n",
       "    </tr>\n",
       "    <tr>\n",
       "      <th>1</th>\n",
       "      <td>1.36</td>\n",
       "      <td>1.175</td>\n",
       "      <td>1.175</td>\n",
       "      <td>0.48</td>\n",
       "      <td>1</td>\n",
       "    </tr>\n",
       "    <tr>\n",
       "      <th>2</th>\n",
       "      <td>1.54</td>\n",
       "      <td>1.175</td>\n",
       "      <td>1.175</td>\n",
       "      <td>0.39</td>\n",
       "      <td>1</td>\n",
       "    </tr>\n",
       "    <tr>\n",
       "      <th>3</th>\n",
       "      <td>1.29</td>\n",
       "      <td>1.175</td>\n",
       "      <td>1.175</td>\n",
       "      <td>0.57</td>\n",
       "      <td>1</td>\n",
       "    </tr>\n",
       "    <tr>\n",
       "      <th>4</th>\n",
       "      <td>1.24</td>\n",
       "      <td>1.175</td>\n",
       "      <td>1.175</td>\n",
       "      <td>0.55</td>\n",
       "      <td>1</td>\n",
       "    </tr>\n",
       "    <tr>\n",
       "      <th>...</th>\n",
       "      <td>...</td>\n",
       "      <td>...</td>\n",
       "      <td>...</td>\n",
       "      <td>...</td>\n",
       "      <td>...</td>\n",
       "    </tr>\n",
       "    <tr>\n",
       "      <th>209</th>\n",
       "      <td>2.88</td>\n",
       "      <td>1.175</td>\n",
       "      <td>1.175</td>\n",
       "      <td>0.08</td>\n",
       "      <td>7</td>\n",
       "    </tr>\n",
       "    <tr>\n",
       "      <th>210</th>\n",
       "      <td>1.99</td>\n",
       "      <td>1.175</td>\n",
       "      <td>1.175</td>\n",
       "      <td>0.00</td>\n",
       "      <td>7</td>\n",
       "    </tr>\n",
       "    <tr>\n",
       "      <th>211</th>\n",
       "      <td>2.02</td>\n",
       "      <td>1.175</td>\n",
       "      <td>1.175</td>\n",
       "      <td>0.00</td>\n",
       "      <td>7</td>\n",
       "    </tr>\n",
       "    <tr>\n",
       "      <th>212</th>\n",
       "      <td>1.94</td>\n",
       "      <td>1.175</td>\n",
       "      <td>1.175</td>\n",
       "      <td>0.00</td>\n",
       "      <td>7</td>\n",
       "    </tr>\n",
       "    <tr>\n",
       "      <th>213</th>\n",
       "      <td>2.08</td>\n",
       "      <td>1.175</td>\n",
       "      <td>1.175</td>\n",
       "      <td>0.00</td>\n",
       "      <td>7</td>\n",
       "    </tr>\n",
       "  </tbody>\n",
       "</table>\n",
       "<p>214 rows × 5 columns</p>\n",
       "</div>"
      ],
      "text/plain": [
       "      Al1    Al2    Al3     K  Type\n",
       "0    1.10  1.175  1.175  0.06     1\n",
       "1    1.36  1.175  1.175  0.48     1\n",
       "2    1.54  1.175  1.175  0.39     1\n",
       "3    1.29  1.175  1.175  0.57     1\n",
       "4    1.24  1.175  1.175  0.55     1\n",
       "..    ...    ...    ...   ...   ...\n",
       "209  2.88  1.175  1.175  0.08     7\n",
       "210  1.99  1.175  1.175  0.00     7\n",
       "211  2.02  1.175  1.175  0.00     7\n",
       "212  1.94  1.175  1.175  0.00     7\n",
       "213  2.08  1.175  1.175  0.00     7\n",
       "\n",
       "[214 rows x 5 columns]"
      ]
     },
     "execution_count": 26,
     "metadata": {},
     "output_type": "execute_result"
    }
   ],
   "source": [
    "bin_ranges = [0.287, 1.36]\n",
    "Al_ind = columns.index('Al')\n",
    "v2_1 = df.loc[(df[\"Al\"] >= bin_ranges[0]) & (df[\"Al\"] <= bin_ranges[1])]\n",
    "\n",
    "# define lists\n",
    "Al1 = []\n",
    "Al2 = []\n",
    "Al3 = []\n",
    "K = []\n",
    "Type = []\n",
    "\n",
    "# loop over dataframe\n",
    "for i in range(len(df)):\n",
    "    row = df.iloc[i]\n",
    "    Al = row['Al']\n",
    "    # populate Mg1 with Mg value for each row\n",
    "    # if row doesn't exist in v2_1, populate Mg1 with original Mg value\n",
    "    if (Al >= bin_ranges[0]) & (Al <= bin_ranges[1]):\n",
    "        Al1.append(Al)\n",
    "    else:\n",
    "        Al1.append(Al)\n",
    "        \n",
    "    # populate Mg2 and Mg3 with median of bin range containing the class \n",
    "    # that has the biggest count after excluding the majority class in the partition v2_1\n",
    "    K.append(row['K'])\n",
    "    Type.append(row['Type'])\n",
    "    class_counts = v2_1['Type'].value_counts().sort_index() # count occurences of each type\n",
    "    max_without_majority = 0\n",
    "    median_val = 0\n",
    "    \n",
    "    for key, value in class_counts.items():\n",
    "        if (max_without_majority < value) and (key != 1): # first check for max without majority class\n",
    "            max_without_majority = value\n",
    "            median_val = v2_1[v2_1['Type'] == key]['Al'].median() # get the median of the new majority\n",
    "\n",
    "# populate Mg2 and Mg3 with the calulated median val\n",
    "    Al2.append(median_val)\n",
    "    Al3.append(median_val)\n",
    "\n",
    "# create new df with derived features\n",
    "cols = ['Al1', 'Al2', 'Al3', 'K', 'Type']\n",
    "df5 = pd.DataFrame(list(zip(Al1, Al2, Al3, K, Type)), columns=cols)  \n",
    "df5"
   ]
  },
  {
   "cell_type": "code",
   "execution_count": 27,
   "metadata": {},
   "outputs": [
    {
     "data": {
      "text/html": [
       "<div>\n",
       "<style scoped>\n",
       "    .dataframe tbody tr th:only-of-type {\n",
       "        vertical-align: middle;\n",
       "    }\n",
       "\n",
       "    .dataframe tbody tr th {\n",
       "        vertical-align: top;\n",
       "    }\n",
       "\n",
       "    .dataframe thead th {\n",
       "        text-align: right;\n",
       "    }\n",
       "</style>\n",
       "<table border=\"1\" class=\"dataframe\">\n",
       "  <thead>\n",
       "    <tr style=\"text-align: right;\">\n",
       "      <th></th>\n",
       "      <th>Al1</th>\n",
       "      <th>Al2</th>\n",
       "      <th>Al3</th>\n",
       "      <th>K</th>\n",
       "      <th>Type</th>\n",
       "    </tr>\n",
       "  </thead>\n",
       "  <tbody>\n",
       "    <tr>\n",
       "      <th>0</th>\n",
       "      <td>1.10</td>\n",
       "      <td>1.54</td>\n",
       "      <td>1.54</td>\n",
       "      <td>0.06</td>\n",
       "      <td>1</td>\n",
       "    </tr>\n",
       "    <tr>\n",
       "      <th>1</th>\n",
       "      <td>1.36</td>\n",
       "      <td>1.54</td>\n",
       "      <td>1.54</td>\n",
       "      <td>0.48</td>\n",
       "      <td>1</td>\n",
       "    </tr>\n",
       "    <tr>\n",
       "      <th>2</th>\n",
       "      <td>1.54</td>\n",
       "      <td>1.54</td>\n",
       "      <td>1.54</td>\n",
       "      <td>0.39</td>\n",
       "      <td>1</td>\n",
       "    </tr>\n",
       "    <tr>\n",
       "      <th>3</th>\n",
       "      <td>1.29</td>\n",
       "      <td>1.54</td>\n",
       "      <td>1.54</td>\n",
       "      <td>0.57</td>\n",
       "      <td>1</td>\n",
       "    </tr>\n",
       "    <tr>\n",
       "      <th>4</th>\n",
       "      <td>1.24</td>\n",
       "      <td>1.54</td>\n",
       "      <td>1.54</td>\n",
       "      <td>0.55</td>\n",
       "      <td>1</td>\n",
       "    </tr>\n",
       "    <tr>\n",
       "      <th>...</th>\n",
       "      <td>...</td>\n",
       "      <td>...</td>\n",
       "      <td>...</td>\n",
       "      <td>...</td>\n",
       "      <td>...</td>\n",
       "    </tr>\n",
       "    <tr>\n",
       "      <th>209</th>\n",
       "      <td>2.88</td>\n",
       "      <td>1.54</td>\n",
       "      <td>1.54</td>\n",
       "      <td>0.08</td>\n",
       "      <td>7</td>\n",
       "    </tr>\n",
       "    <tr>\n",
       "      <th>210</th>\n",
       "      <td>1.99</td>\n",
       "      <td>1.54</td>\n",
       "      <td>1.54</td>\n",
       "      <td>0.00</td>\n",
       "      <td>7</td>\n",
       "    </tr>\n",
       "    <tr>\n",
       "      <th>211</th>\n",
       "      <td>2.02</td>\n",
       "      <td>1.54</td>\n",
       "      <td>1.54</td>\n",
       "      <td>0.00</td>\n",
       "      <td>7</td>\n",
       "    </tr>\n",
       "    <tr>\n",
       "      <th>212</th>\n",
       "      <td>1.94</td>\n",
       "      <td>1.54</td>\n",
       "      <td>1.54</td>\n",
       "      <td>0.00</td>\n",
       "      <td>7</td>\n",
       "    </tr>\n",
       "    <tr>\n",
       "      <th>213</th>\n",
       "      <td>2.08</td>\n",
       "      <td>1.54</td>\n",
       "      <td>1.54</td>\n",
       "      <td>0.00</td>\n",
       "      <td>7</td>\n",
       "    </tr>\n",
       "  </tbody>\n",
       "</table>\n",
       "<p>214 rows × 5 columns</p>\n",
       "</div>"
      ],
      "text/plain": [
       "      Al1   Al2   Al3     K  Type\n",
       "0    1.10  1.54  1.54  0.06     1\n",
       "1    1.36  1.54  1.54  0.48     1\n",
       "2    1.54  1.54  1.54  0.39     1\n",
       "3    1.29  1.54  1.54  0.57     1\n",
       "4    1.24  1.54  1.54  0.55     1\n",
       "..    ...   ...   ...   ...   ...\n",
       "209  2.88  1.54  1.54  0.08     7\n",
       "210  1.99  1.54  1.54  0.00     7\n",
       "211  2.02  1.54  1.54  0.00     7\n",
       "212  1.94  1.54  1.54  0.00     7\n",
       "213  2.08  1.54  1.54  0.00     7\n",
       "\n",
       "[214 rows x 5 columns]"
      ]
     },
     "execution_count": 27,
     "metadata": {},
     "output_type": "execute_result"
    }
   ],
   "source": [
    "bin_ranges = [1.36, 2.43]\n",
    "Al_ind = columns.index('Al')\n",
    "v2_2 = df.loc[(df[\"Al\"] >= bin_ranges[0]) & (df[\"Al\"] <= bin_ranges[1])]\n",
    "\n",
    "# define lists\n",
    "Al1 = []\n",
    "Al2 = []\n",
    "Al3 = []\n",
    "K = []\n",
    "Type = []\n",
    "\n",
    "# loop over dataframe\n",
    "for i in range(len(df)):\n",
    "    row = df.iloc[i]\n",
    "    Al = row['Al']\n",
    "    # populate Mg1 with Mg value for each row\n",
    "    # if row doesn't exist in v2_2, populate Mg1 with original Mg value\n",
    "    if (Al >= bin_ranges[0]) & (Al <= bin_ranges[1]):\n",
    "        Al1.append(Al)\n",
    "    else:\n",
    "        Al1.append(Al)\n",
    "        \n",
    "    # populate Mg2 and Mg3 with median of bin range containing the class \n",
    "    # that has the biggest count after excluding the majority class in the partition v2_2\n",
    "    K.append(row['K'])\n",
    "    Type.append(row['Type'])\n",
    "    class_counts = v2_2['Type'].value_counts().sort_index() # count occurences of each type\n",
    "    max_without_majority = 0\n",
    "    median_val = 0\n",
    "    \n",
    "    for key, value in class_counts.items():\n",
    "        if (max_without_majority < value) and (key != 1): # first check for max without majority class\n",
    "            max_without_majority = value\n",
    "            median_val = v2_2[v2_2['Type'] == key]['Al'].median() # get the median of the new majority\n",
    "\n",
    "# populate Mg2 and Mg3 with the calulated median val\n",
    "    Al2.append(median_val)\n",
    "    Al3.append(median_val)\n",
    "\n",
    "# create new df with derived features\n",
    "cols = ['Al1', 'Al2', 'Al3', 'K', 'Type']\n",
    "df6 = pd.DataFrame(list(zip(Al1, Al2, Al3, K, Type)), columns=cols)  \n",
    "df6"
   ]
  },
  {
   "cell_type": "code",
   "execution_count": 28,
   "metadata": {},
   "outputs": [
    {
     "data": {
      "text/html": [
       "<div>\n",
       "<style scoped>\n",
       "    .dataframe tbody tr th:only-of-type {\n",
       "        vertical-align: middle;\n",
       "    }\n",
       "\n",
       "    .dataframe tbody tr th {\n",
       "        vertical-align: top;\n",
       "    }\n",
       "\n",
       "    .dataframe thead th {\n",
       "        text-align: right;\n",
       "    }\n",
       "</style>\n",
       "<table border=\"1\" class=\"dataframe\">\n",
       "  <thead>\n",
       "    <tr style=\"text-align: right;\">\n",
       "      <th></th>\n",
       "      <th>Al1</th>\n",
       "      <th>Al2</th>\n",
       "      <th>Al3</th>\n",
       "      <th>K</th>\n",
       "      <th>Type</th>\n",
       "    </tr>\n",
       "  </thead>\n",
       "  <tbody>\n",
       "    <tr>\n",
       "      <th>0</th>\n",
       "      <td>1.10</td>\n",
       "      <td>2.68</td>\n",
       "      <td>2.68</td>\n",
       "      <td>0.06</td>\n",
       "      <td>1</td>\n",
       "    </tr>\n",
       "    <tr>\n",
       "      <th>1</th>\n",
       "      <td>1.36</td>\n",
       "      <td>2.68</td>\n",
       "      <td>2.68</td>\n",
       "      <td>0.48</td>\n",
       "      <td>1</td>\n",
       "    </tr>\n",
       "    <tr>\n",
       "      <th>2</th>\n",
       "      <td>1.54</td>\n",
       "      <td>2.68</td>\n",
       "      <td>2.68</td>\n",
       "      <td>0.39</td>\n",
       "      <td>1</td>\n",
       "    </tr>\n",
       "    <tr>\n",
       "      <th>3</th>\n",
       "      <td>1.29</td>\n",
       "      <td>2.68</td>\n",
       "      <td>2.68</td>\n",
       "      <td>0.57</td>\n",
       "      <td>1</td>\n",
       "    </tr>\n",
       "    <tr>\n",
       "      <th>4</th>\n",
       "      <td>1.24</td>\n",
       "      <td>2.68</td>\n",
       "      <td>2.68</td>\n",
       "      <td>0.55</td>\n",
       "      <td>1</td>\n",
       "    </tr>\n",
       "    <tr>\n",
       "      <th>...</th>\n",
       "      <td>...</td>\n",
       "      <td>...</td>\n",
       "      <td>...</td>\n",
       "      <td>...</td>\n",
       "      <td>...</td>\n",
       "    </tr>\n",
       "    <tr>\n",
       "      <th>209</th>\n",
       "      <td>2.88</td>\n",
       "      <td>2.68</td>\n",
       "      <td>2.68</td>\n",
       "      <td>0.08</td>\n",
       "      <td>7</td>\n",
       "    </tr>\n",
       "    <tr>\n",
       "      <th>210</th>\n",
       "      <td>1.99</td>\n",
       "      <td>2.68</td>\n",
       "      <td>2.68</td>\n",
       "      <td>0.00</td>\n",
       "      <td>7</td>\n",
       "    </tr>\n",
       "    <tr>\n",
       "      <th>211</th>\n",
       "      <td>2.02</td>\n",
       "      <td>2.68</td>\n",
       "      <td>2.68</td>\n",
       "      <td>0.00</td>\n",
       "      <td>7</td>\n",
       "    </tr>\n",
       "    <tr>\n",
       "      <th>212</th>\n",
       "      <td>1.94</td>\n",
       "      <td>2.68</td>\n",
       "      <td>2.68</td>\n",
       "      <td>0.00</td>\n",
       "      <td>7</td>\n",
       "    </tr>\n",
       "    <tr>\n",
       "      <th>213</th>\n",
       "      <td>2.08</td>\n",
       "      <td>2.68</td>\n",
       "      <td>2.68</td>\n",
       "      <td>0.00</td>\n",
       "      <td>7</td>\n",
       "    </tr>\n",
       "  </tbody>\n",
       "</table>\n",
       "<p>214 rows × 5 columns</p>\n",
       "</div>"
      ],
      "text/plain": [
       "      Al1   Al2   Al3     K  Type\n",
       "0    1.10  2.68  2.68  0.06     1\n",
       "1    1.36  2.68  2.68  0.48     1\n",
       "2    1.54  2.68  2.68  0.39     1\n",
       "3    1.29  2.68  2.68  0.57     1\n",
       "4    1.24  2.68  2.68  0.55     1\n",
       "..    ...   ...   ...   ...   ...\n",
       "209  2.88  2.68  2.68  0.08     7\n",
       "210  1.99  2.68  2.68  0.00     7\n",
       "211  2.02  2.68  2.68  0.00     7\n",
       "212  1.94  2.68  2.68  0.00     7\n",
       "213  2.08  2.68  2.68  0.00     7\n",
       "\n",
       "[214 rows x 5 columns]"
      ]
     },
     "execution_count": 28,
     "metadata": {},
     "output_type": "execute_result"
    }
   ],
   "source": [
    "bin_ranges = [2.43, 3.5]\n",
    "Al_ind = columns.index('Al')\n",
    "v2_3 = df.loc[(df[\"Al\"] >= bin_ranges[0]) & (df[\"Al\"] <= bin_ranges[1])]\n",
    "\n",
    "# define lists\n",
    "Al1 = []\n",
    "Al2 = []\n",
    "Al3 = []\n",
    "K = []\n",
    "Type = []\n",
    "\n",
    "# loop over dataframe\n",
    "for i in range(len(df)):\n",
    "    row = df.iloc[i]\n",
    "    Al = row['Al']\n",
    "    # populate Mg1 with Mg value for each row\n",
    "    # if row doesn't exist in v2_3, populate Mg1 with original Mg value\n",
    "    if (Al >= bin_ranges[0]) & (Al <= bin_ranges[1]):\n",
    "        Al1.append(Al)\n",
    "    else:\n",
    "        Al1.append(Al)\n",
    "        \n",
    "    # populate Mg2 and Mg3 with median of bin range containing the class \n",
    "    # that has the biggest count after excluding the majority class in the partition v2_3\n",
    "    K.append(row['K'])\n",
    "    Type.append(row['Type'])\n",
    "    class_counts = v2_3['Type'].value_counts().sort_index() # count occurences of each type\n",
    "    max_without_majority = 0\n",
    "    median_val = 0\n",
    "    \n",
    "    for key, value in class_counts.items():\n",
    "        if (max_without_majority < value) and (key != 1): # first check for max without majority class\n",
    "            max_without_majority = value\n",
    "            median_val = v2_3[v2_3['Type'] == key]['Al'].median() # get the median of the new majority\n",
    "\n",
    "# populate Mg2 and Mg3 with the calulated median val\n",
    "    Al2.append(median_val)\n",
    "    Al3.append(median_val)\n",
    "\n",
    "# create new df with derived features\n",
    "cols = ['Al1', 'Al2', 'Al3', 'K', 'Type']\n",
    "df7 = pd.DataFrame(list(zip(Al1, Al2, Al3, K, Type)), columns=cols)  \n",
    "df7"
   ]
  },
  {
   "cell_type": "markdown",
   "metadata": {
    "id": "Zk79QG2DbHZd"
   },
   "source": [
    "### Task 6"
   ]
  },
  {
   "cell_type": "code",
   "execution_count": 29,
   "metadata": {
    "scrolled": true
   },
   "outputs": [
    {
     "data": {
      "text/html": [
       "<div>\n",
       "<style scoped>\n",
       "    .dataframe tbody tr th:only-of-type {\n",
       "        vertical-align: middle;\n",
       "    }\n",
       "\n",
       "    .dataframe tbody tr th {\n",
       "        vertical-align: top;\n",
       "    }\n",
       "\n",
       "    .dataframe thead th {\n",
       "        text-align: right;\n",
       "    }\n",
       "</style>\n",
       "<table border=\"1\" class=\"dataframe\">\n",
       "  <thead>\n",
       "    <tr style=\"text-align: right;\">\n",
       "      <th></th>\n",
       "      <th>Mg1</th>\n",
       "      <th>Mg2</th>\n",
       "      <th>Mg3</th>\n",
       "      <th>Al1</th>\n",
       "      <th>Al2</th>\n",
       "      <th>Al3</th>\n",
       "      <th>K</th>\n",
       "      <th>Type</th>\n",
       "    </tr>\n",
       "  </thead>\n",
       "  <tbody>\n",
       "    <tr>\n",
       "      <th>0</th>\n",
       "      <td>4.49</td>\n",
       "      <td>0.000</td>\n",
       "      <td>0.000</td>\n",
       "      <td>1.10</td>\n",
       "      <td>1.175</td>\n",
       "      <td>1.175</td>\n",
       "      <td>0.06</td>\n",
       "      <td>1</td>\n",
       "    </tr>\n",
       "    <tr>\n",
       "      <th>1</th>\n",
       "      <td>3.60</td>\n",
       "      <td>0.000</td>\n",
       "      <td>0.000</td>\n",
       "      <td>1.36</td>\n",
       "      <td>1.175</td>\n",
       "      <td>1.175</td>\n",
       "      <td>0.48</td>\n",
       "      <td>1</td>\n",
       "    </tr>\n",
       "    <tr>\n",
       "      <th>2</th>\n",
       "      <td>3.55</td>\n",
       "      <td>0.000</td>\n",
       "      <td>0.000</td>\n",
       "      <td>1.54</td>\n",
       "      <td>1.175</td>\n",
       "      <td>1.175</td>\n",
       "      <td>0.39</td>\n",
       "      <td>1</td>\n",
       "    </tr>\n",
       "    <tr>\n",
       "      <th>3</th>\n",
       "      <td>3.69</td>\n",
       "      <td>0.000</td>\n",
       "      <td>0.000</td>\n",
       "      <td>1.29</td>\n",
       "      <td>1.175</td>\n",
       "      <td>1.175</td>\n",
       "      <td>0.57</td>\n",
       "      <td>1</td>\n",
       "    </tr>\n",
       "    <tr>\n",
       "      <th>4</th>\n",
       "      <td>3.62</td>\n",
       "      <td>0.000</td>\n",
       "      <td>0.000</td>\n",
       "      <td>1.24</td>\n",
       "      <td>1.175</td>\n",
       "      <td>1.175</td>\n",
       "      <td>0.55</td>\n",
       "      <td>1</td>\n",
       "    </tr>\n",
       "    <tr>\n",
       "      <th>...</th>\n",
       "      <td>...</td>\n",
       "      <td>...</td>\n",
       "      <td>...</td>\n",
       "      <td>...</td>\n",
       "      <td>...</td>\n",
       "      <td>...</td>\n",
       "      <td>...</td>\n",
       "      <td>...</td>\n",
       "    </tr>\n",
       "    <tr>\n",
       "      <th>209</th>\n",
       "      <td>0.00</td>\n",
       "      <td>2.805</td>\n",
       "      <td>2.805</td>\n",
       "      <td>2.88</td>\n",
       "      <td>2.680</td>\n",
       "      <td>2.680</td>\n",
       "      <td>0.08</td>\n",
       "      <td>7</td>\n",
       "    </tr>\n",
       "    <tr>\n",
       "      <th>210</th>\n",
       "      <td>0.00</td>\n",
       "      <td>2.805</td>\n",
       "      <td>2.805</td>\n",
       "      <td>1.99</td>\n",
       "      <td>2.680</td>\n",
       "      <td>2.680</td>\n",
       "      <td>0.00</td>\n",
       "      <td>7</td>\n",
       "    </tr>\n",
       "    <tr>\n",
       "      <th>211</th>\n",
       "      <td>0.00</td>\n",
       "      <td>2.805</td>\n",
       "      <td>2.805</td>\n",
       "      <td>2.02</td>\n",
       "      <td>2.680</td>\n",
       "      <td>2.680</td>\n",
       "      <td>0.00</td>\n",
       "      <td>7</td>\n",
       "    </tr>\n",
       "    <tr>\n",
       "      <th>212</th>\n",
       "      <td>0.00</td>\n",
       "      <td>2.805</td>\n",
       "      <td>2.805</td>\n",
       "      <td>1.94</td>\n",
       "      <td>2.680</td>\n",
       "      <td>2.680</td>\n",
       "      <td>0.00</td>\n",
       "      <td>7</td>\n",
       "    </tr>\n",
       "    <tr>\n",
       "      <th>213</th>\n",
       "      <td>0.00</td>\n",
       "      <td>2.805</td>\n",
       "      <td>2.805</td>\n",
       "      <td>2.08</td>\n",
       "      <td>2.680</td>\n",
       "      <td>2.680</td>\n",
       "      <td>0.00</td>\n",
       "      <td>7</td>\n",
       "    </tr>\n",
       "  </tbody>\n",
       "</table>\n",
       "<p>642 rows × 8 columns</p>\n",
       "</div>"
      ],
      "text/plain": [
       "      Mg1    Mg2    Mg3   Al1    Al2    Al3     K  Type\n",
       "0    4.49  0.000  0.000  1.10  1.175  1.175  0.06     1\n",
       "1    3.60  0.000  0.000  1.36  1.175  1.175  0.48     1\n",
       "2    3.55  0.000  0.000  1.54  1.175  1.175  0.39     1\n",
       "3    3.69  0.000  0.000  1.29  1.175  1.175  0.57     1\n",
       "4    3.62  0.000  0.000  1.24  1.175  1.175  0.55     1\n",
       "..    ...    ...    ...   ...    ...    ...   ...   ...\n",
       "209  0.00  2.805  2.805  2.88  2.680  2.680  0.08     7\n",
       "210  0.00  2.805  2.805  1.99  2.680  2.680  0.00     7\n",
       "211  0.00  2.805  2.805  2.02  2.680  2.680  0.00     7\n",
       "212  0.00  2.805  2.805  1.94  2.680  2.680  0.00     7\n",
       "213  0.00  2.805  2.805  2.08  2.680  2.680  0.00     7\n",
       "\n",
       "[642 rows x 8 columns]"
      ]
     },
     "execution_count": 29,
     "metadata": {},
     "output_type": "execute_result"
    }
   ],
   "source": [
    "pdListDf = [df5, df6, df7]  # List of your dataframes combined\n",
    "df_Al = pd.concat(pdListDf)\n",
    "\n",
    "df_8 = pd.concat([df_4[['Mg1', 'Mg2', 'Mg3']], df_Al], axis=1)\n",
    "df_8"
   ]
  },
  {
   "cell_type": "markdown",
   "metadata": {
    "id": "HTMdQFEUbaE6"
   },
   "source": [
    "### Task 7"
   ]
  },
  {
   "cell_type": "code",
   "execution_count": 30,
   "metadata": {},
   "outputs": [],
   "source": [
    "X_final = df_8.drop(['Type'], axis=1)\n",
    "y_final = df_8['Type']"
   ]
  },
  {
   "cell_type": "code",
   "execution_count": 31,
   "metadata": {},
   "outputs": [],
   "source": [
    "X_train_final, X_test_final, y_train_final, y_test_final = train_test_split(X_final, y_final, stratify=y_final, test_size=0.3)"
   ]
  },
  {
   "cell_type": "code",
   "execution_count": 32,
   "metadata": {},
   "outputs": [],
   "source": [
    "scaler = MinMaxScaler()\n",
    "X_train_final = scaler.fit_transform(X_train_final)\n",
    "X_test_final = scaler.transform(X_test_final)"
   ]
  },
  {
   "cell_type": "code",
   "execution_count": 33,
   "metadata": {},
   "outputs": [
    {
     "data": {
      "text/plain": [
       "LogisticRegression()"
      ]
     },
     "execution_count": 33,
     "metadata": {},
     "output_type": "execute_result"
    }
   ],
   "source": [
    "clf_final = LogisticRegression()\n",
    "clf_final.fit(X_train_final, y_train_final)"
   ]
  },
  {
   "cell_type": "code",
   "execution_count": 34,
   "metadata": {},
   "outputs": [
    {
     "name": "stdout",
     "output_type": "stream",
     "text": [
      "Accuracy processed Final data: 0.5906735751295337\n"
     ]
    }
   ],
   "source": [
    "print(\"Accuracy processed Final data:\", clf_final.score(X_test_final, y_test_final))"
   ]
  },
  {
   "cell_type": "code",
   "execution_count": 35,
   "metadata": {},
   "outputs": [],
   "source": [
    "cm_final = confusion_matrix(y_test_final, clf_final.predict(X_test_final))"
   ]
  },
  {
   "cell_type": "code",
   "execution_count": 36,
   "metadata": {},
   "outputs": [
    {
     "data": {
      "image/png": "[encoded data removed]",
      "text/plain": [
       "<Figure size 432x288 with 2 Axes>"
      ]
     },
     "metadata": {
      "needs_background": "light"
     },
     "output_type": "display_data"
    }
   ],
   "source": [
    "import seaborn as sns\n",
    "import matplotlib.pyplot as plt     \n",
    "\n",
    "ax= plt.subplot()\n",
    "sns.heatmap(cm_final, annot=True, fmt='g', ax=ax)\n",
    "\n",
    "# labels, title and ticks\n",
    "ax.set_xlabel('Predicted labels');ax.set_ylabel('True labels'); \n",
    "ax.set_title('Confusion Matrix Final data');\n",
    "ax.xaxis.set_ticklabels(clf_final.classes_); ax.yaxis.set_ticklabels(clf_final.classes_);"
   ]
  },
  {
   "cell_type": "markdown",
   "metadata": {
    "id": "kKynodzedB3A"
   },
   "source": [
    "### Task 8"
   ]
  },
  {
   "cell_type": "code",
   "execution_count": 37,
   "metadata": {},
   "outputs": [
    {
     "data": {
      "text/html": [
       "<div>\n",
       "<style scoped>\n",
       "    .dataframe tbody tr th:only-of-type {\n",
       "        vertical-align: middle;\n",
       "    }\n",
       "\n",
       "    .dataframe tbody tr th {\n",
       "        vertical-align: top;\n",
       "    }\n",
       "\n",
       "    .dataframe thead th {\n",
       "        text-align: right;\n",
       "    }\n",
       "</style>\n",
       "<table border=\"1\" class=\"dataframe\">\n",
       "  <thead>\n",
       "    <tr style=\"text-align: right;\">\n",
       "      <th></th>\n",
       "      <th>Mg1</th>\n",
       "      <th>Mg2</th>\n",
       "      <th>Mg3</th>\n",
       "      <th>Al</th>\n",
       "      <th>K</th>\n",
       "      <th>Type</th>\n",
       "    </tr>\n",
       "  </thead>\n",
       "  <tbody>\n",
       "    <tr>\n",
       "      <th>0</th>\n",
       "      <td>4.49</td>\n",
       "      <td>0.000</td>\n",
       "      <td>0.000</td>\n",
       "      <td>1.10</td>\n",
       "      <td>0.06</td>\n",
       "      <td>1</td>\n",
       "    </tr>\n",
       "    <tr>\n",
       "      <th>1</th>\n",
       "      <td>3.60</td>\n",
       "      <td>0.000</td>\n",
       "      <td>0.000</td>\n",
       "      <td>1.36</td>\n",
       "      <td>0.48</td>\n",
       "      <td>1</td>\n",
       "    </tr>\n",
       "    <tr>\n",
       "      <th>2</th>\n",
       "      <td>3.55</td>\n",
       "      <td>0.000</td>\n",
       "      <td>0.000</td>\n",
       "      <td>1.54</td>\n",
       "      <td>0.39</td>\n",
       "      <td>1</td>\n",
       "    </tr>\n",
       "    <tr>\n",
       "      <th>3</th>\n",
       "      <td>3.69</td>\n",
       "      <td>0.000</td>\n",
       "      <td>0.000</td>\n",
       "      <td>1.29</td>\n",
       "      <td>0.57</td>\n",
       "      <td>1</td>\n",
       "    </tr>\n",
       "    <tr>\n",
       "      <th>4</th>\n",
       "      <td>3.62</td>\n",
       "      <td>0.000</td>\n",
       "      <td>0.000</td>\n",
       "      <td>1.24</td>\n",
       "      <td>0.55</td>\n",
       "      <td>1</td>\n",
       "    </tr>\n",
       "    <tr>\n",
       "      <th>...</th>\n",
       "      <td>...</td>\n",
       "      <td>...</td>\n",
       "      <td>...</td>\n",
       "      <td>...</td>\n",
       "      <td>...</td>\n",
       "      <td>...</td>\n",
       "    </tr>\n",
       "    <tr>\n",
       "      <th>209</th>\n",
       "      <td>0.00</td>\n",
       "      <td>2.805</td>\n",
       "      <td>2.805</td>\n",
       "      <td>2.88</td>\n",
       "      <td>0.08</td>\n",
       "      <td>7</td>\n",
       "    </tr>\n",
       "    <tr>\n",
       "      <th>210</th>\n",
       "      <td>0.00</td>\n",
       "      <td>2.805</td>\n",
       "      <td>2.805</td>\n",
       "      <td>1.99</td>\n",
       "      <td>0.00</td>\n",
       "      <td>7</td>\n",
       "    </tr>\n",
       "    <tr>\n",
       "      <th>211</th>\n",
       "      <td>0.00</td>\n",
       "      <td>2.805</td>\n",
       "      <td>2.805</td>\n",
       "      <td>2.02</td>\n",
       "      <td>0.00</td>\n",
       "      <td>7</td>\n",
       "    </tr>\n",
       "    <tr>\n",
       "      <th>212</th>\n",
       "      <td>0.00</td>\n",
       "      <td>2.805</td>\n",
       "      <td>2.805</td>\n",
       "      <td>1.94</td>\n",
       "      <td>0.00</td>\n",
       "      <td>7</td>\n",
       "    </tr>\n",
       "    <tr>\n",
       "      <th>213</th>\n",
       "      <td>0.00</td>\n",
       "      <td>2.805</td>\n",
       "      <td>2.805</td>\n",
       "      <td>2.08</td>\n",
       "      <td>0.00</td>\n",
       "      <td>7</td>\n",
       "    </tr>\n",
       "  </tbody>\n",
       "</table>\n",
       "<p>642 rows × 6 columns</p>\n",
       "</div>"
      ],
      "text/plain": [
       "      Mg1    Mg2    Mg3    Al     K  Type\n",
       "0    4.49  0.000  0.000  1.10  0.06     1\n",
       "1    3.60  0.000  0.000  1.36  0.48     1\n",
       "2    3.55  0.000  0.000  1.54  0.39     1\n",
       "3    3.69  0.000  0.000  1.29  0.57     1\n",
       "4    3.62  0.000  0.000  1.24  0.55     1\n",
       "..    ...    ...    ...   ...   ...   ...\n",
       "209  0.00  2.805  2.805  2.88  0.08     7\n",
       "210  0.00  2.805  2.805  1.99  0.00     7\n",
       "211  0.00  2.805  2.805  2.02  0.00     7\n",
       "212  0.00  2.805  2.805  1.94  0.00     7\n",
       "213  0.00  2.805  2.805  2.08  0.00     7\n",
       "\n",
       "[642 rows x 6 columns]"
      ]
     },
     "execution_count": 37,
     "metadata": {},
     "output_type": "execute_result"
    }
   ],
   "source": [
    "df_4"
   ]
  },
  {
   "cell_type": "code",
   "execution_count": 38,
   "metadata": {},
   "outputs": [
    {
     "data": {
      "text/plain": [
       "LogisticRegression(random_state=4)"
      ]
     },
     "execution_count": 38,
     "metadata": {},
     "output_type": "execute_result"
    }
   ],
   "source": [
    "clf_4 = LogisticRegression(random_state=4)\n",
    "clf_4.fit(X_train_mg, y_train_mg)"
   ]
  },
  {
   "cell_type": "code",
   "execution_count": 39,
   "metadata": {},
   "outputs": [],
   "source": [
    "df_4['pred'] = clf_4.predict(df_4.drop(['Type'], axis=1))"
   ]
  },
  {
   "cell_type": "code",
   "execution_count": 40,
   "metadata": {},
   "outputs": [],
   "source": [
    "df_4_1 = df_4[df_4['pred']==1]\n",
    "df_4_2 = df_4[df_4['pred']==2]"
   ]
  },
  {
   "cell_type": "code",
   "execution_count": 41,
   "metadata": {},
   "outputs": [],
   "source": [
    "X_train_41, X_test_41, y_train_41, y_test_41 = train_test_split(df_4_1.drop(['Type', 'pred'], axis=1), df_4_1['Type'], stratify=df_4_1['Type'], test_size=0.3, random_state=1)\n",
    "X_train_42, X_test_42, y_train_42, y_test_42 = train_test_split(df_4_2.drop(['Type', 'pred'], axis=1), df_4_2['Type'], stratify=df_4_2['Type'], test_size=0.3, random_state=1)\n",
    "\n",
    "scaler = MinMaxScaler()\n",
    "X_train_41 = scaler.fit_transform(X_train_41)\n",
    "X_test_41 = scaler.transform(X_test_41)\n",
    "\n",
    "scaler = MinMaxScaler()\n",
    "X_train_42 = scaler.fit_transform(X_train_42)\n",
    "X_test_42 = scaler.transform(X_test_42)"
   ]
  },
  {
   "cell_type": "code",
   "execution_count": 42,
   "metadata": {},
   "outputs": [
    {
     "data": {
      "text/plain": [
       "LogisticRegression()"
      ]
     },
     "execution_count": 42,
     "metadata": {},
     "output_type": "execute_result"
    }
   ],
   "source": [
    "clf_41 = LogisticRegression()\n",
    "clf_41.fit(X_train_41, y_train_41)\n",
    "\n",
    "clf_42 = LogisticRegression()\n",
    "clf_42.fit(X_train_42, y_train_42)"
   ]
  },
  {
   "cell_type": "code",
   "execution_count": 43,
   "metadata": {},
   "outputs": [
    {
     "name": "stdout",
     "output_type": "stream",
     "text": [
      "Accuracy processed 4_1 data: 0.6503496503496503\n",
      "Accuracy processed 4_2 data: 0.375\n"
     ]
    }
   ],
   "source": [
    "print(\"Accuracy processed 4_1 data:\", clf_41.score(X_test_41, y_test_41))\n",
    "print(\"Accuracy processed 4_2 data:\", clf_42.score(X_test_42, y_test_42))"
   ]
  },
  {
   "cell_type": "code",
   "execution_count": 44,
   "metadata": {},
   "outputs": [],
   "source": [
    "cm_41 = confusion_matrix(y_test_41, clf_41.predict(X_test_41))\n",
    "cm_42 = confusion_matrix(y_test_42, clf_42.predict(X_test_42))"
   ]
  },
  {
   "cell_type": "code",
   "execution_count": 45,
   "metadata": {},
   "outputs": [
    {
     "data": {
      "image/png": "[encoded data removed]",
      "text/plain": [
       "<Figure size 432x288 with 2 Axes>"
      ]
     },
     "metadata": {
      "needs_background": "light"
     },
     "output_type": "display_data"
    }
   ],
   "source": [
    "import seaborn as sns\n",
    "import matplotlib.pyplot as plt     \n",
    "\n",
    "ax= plt.subplot()\n",
    "sns.heatmap(cm_41, annot=True, fmt='g', ax=ax)\n",
    "\n",
    "# labels, title and ticks\n",
    "ax.set_xlabel('Predicted labels');ax.set_ylabel('True labels'); \n",
    "ax.set_title('Confusion Matrix 4_1 data');\n",
    "ax.xaxis.set_ticklabels(y_test_41.unique()); ax.yaxis.set_ticklabels(y_test_41.unique());"
   ]
  },
  {
   "cell_type": "code",
   "execution_count": 46,
   "metadata": {},
   "outputs": [
    {
     "data": {
      "image/png": "[encoded data removed]",
      "text/plain": [
       "<Figure size 432x288 with 2 Axes>"
      ]
     },
     "metadata": {
      "needs_background": "light"
     },
     "output_type": "display_data"
    }
   ],
   "source": [
    "import seaborn as sns\n",
    "import matplotlib.pyplot as plt     \n",
    "\n",
    "ax= plt.subplot()\n",
    "sns.heatmap(cm_42, annot=True, fmt='g', ax=ax)\n",
    "\n",
    "# labels, title and ticks\n",
    "ax.set_xlabel('Predicted labels');ax.set_ylabel('True labels'); \n",
    "ax.set_title('Confusion Matrix 4_2 data');\n",
    "ax.xaxis.set_ticklabels(y_test_42.unique()); ax.yaxis.set_ticklabels(y_test_42.unique());"
   ]
  },
  {
   "cell_type": "code",
   "execution_count": 47,
   "metadata": {},
   "outputs": [],
   "source": [
    "cm_mg[0][0] = cm_41[0][0]\n",
    "cm_mg[0][1] = 0\n",
    "cm_mg[1][0] = 0\n",
    "cm_mg[1][1] = cm_42[1][1]\n",
    "cm_mg[1][5] = 0\n",
    "cm_mg[2][2] = cm_mg[2][0]\n",
    "cm_mg[2][0] = 0"
   ]
  },
  {
   "cell_type": "code",
   "execution_count": 50,
   "metadata": {},
   "outputs": [
    {
     "name": "stdout",
     "output_type": "stream",
     "text": [
      "Accuracy original data: 0.5230769230769231\n",
      "Accuracy final data: 0.7345132743362832\n"
     ]
    }
   ],
   "source": [
    "print(\"Accuracy original data:\", clf.score(X_test, y_test))\n",
    "print(\"Accuracy final data:\", cm_mg.diagonal().sum()/cm_mg.sum())"
   ]
  },
  {
   "cell_type": "markdown",
   "metadata": {
    "id": "w-R39QBrlTOQ"
   },
   "source": [
    "### Task 9"
   ]
  },
  {
   "cell_type": "markdown",
   "metadata": {
    "id": "eTEvFoq3lVH2"
   },
   "source": [
    "Accuracy increase from 0.52 to 0.73 ~=21%"
   ]
  },
  {
   "cell_type": "code",
   "execution_count": null,
   "metadata": {},
   "outputs": [],
   "source": []
  }
 ],
 "metadata": {
  "colab": {
   "provenance": []
  },
  "kernelspec": {
   "display_name": "Python 3 (ipykernel)",
   "language": "python",
   "name": "python3"
  },
  "language_info": {
   "codemirror_mode": {
    "name": "ipython",
    "version": 3
   },
   "file_extension": ".py",
   "mimetype": "text/x-python",
   "name": "python",
   "nbconvert_exporter": "python",
   "pygments_lexer": "ipython3",
   "version": "3.7.8"
  }
 },
 "nbformat": 4,
 "nbformat_minor": 1
}
